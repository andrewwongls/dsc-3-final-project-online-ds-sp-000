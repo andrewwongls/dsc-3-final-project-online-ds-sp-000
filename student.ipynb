{
 "cells": [
  {
   "attachments": {},
   "cell_type": "markdown",
   "metadata": {},
   "source": [
    "![Happy%20Income.PNG](https://raw.githubusercontent.com/andrewwongls/dsc-3-final-project-online-ds-sp-000/master/Happy%20Income.PNG)"
   ]
  },
  {
   "attachments": {},
   "cell_type": "markdown",
   "metadata": {},
   "source": [
    "# EXECUTIVE SUMMARY\n",
    "\n",
    "### PROJECT GOALS\n",
    "The goals of this project are four-folds:\n",
    "> **FIRST** This notebook designed to be a guide to the reader on a ***contemporary issue and debate of basic income*** - currently sweeping across the western world due to anxiety towards the future of work.\n",
    "\n",
    "> **SECOND** This project attempts to use a confluence data science, data journalism, and social science disciplines to understand and contextualize basic income. The ***OSMEIC framework*** is created for this purpose. \n",
    "\n",
    "> **THIRD** This project attempts to leverage on a combinations of ***Hypothesis Testing*** (drawing observations that resulting in real, significant effect - accepting alternative hypothesis), and ***Machine Learning - Predictive Analytic*** (use of data, statistical algorithms and machine learning techniques to identify the likelihood of future outcomes based on historical data). The results from these two data science methods will help us not only build higher confidence of the results, but also drawing new insights. The maxim of when two diferent things collide, something interesting bound to happen.\n",
    "\n",
    "> **FOURTH** The 3 key questions we are trying to answer - the summarized version to be discussed in the next section (Project Outcome).\n",
    ">> Based on the Dalia Research 2016 survey dataset, and predictive analytics: ***What is the possibility of predicting whether some will vote for or against basic income?***\n",
    "\n",
    ">> Based on the 2016 survey dataset, and hypothesis testing: ***What key factors that have significant influence on basic income voting outcome?***\n",
    "\n",
    ">> Based on the above two results, and drawing from recent debates on basic income (on mainstream and social media): ***What is the future of basic income in the future of work?***\n",
    "\n",
    "\n",
    "### PROJECT OUTCOME\n",
    "\n",
    "**QUESTION 1 What is the possibility of predicting whether someone will vote for or against basic income?**\n",
    "<BR>\n",
    "The answer is a definite yes. Random Forest and XGBoost have demonstrated most promising tools in predicting whether someone will vote for or against basic income. \n",
    "\n",
    "![Summary%20of%20Predictive%20Modelling%20Results.png](https://raw.githubusercontent.com/andrewwongls/dsc-3-final-project-online-ds-sp-000/master/Summary%20of%20Predictive%20Modelling%20Results.png)\n",
    "\n",
    "**QUESTION 2 What key factors that have significant influence on basic income voting outcome?**\n",
    "<BR>\n",
    "The predictive analytics revealed awareness of basic income as the rank #1 predictor whether someone will vote for basic income. Further basic income significance testing revealed that all psychographic are significantly different, except for education level.\n",
    "\n",
    "![Table%20A.png](https://raw.githubusercontent.com/andrewwongls/dsc-3-final-project-online-ds-sp-000/master/Table%20A.png)\n",
    "    \n",
    "**QUESTION 3 What is the future of basic income in the future of work?**\n",
    "<BR>\n",
    "\n",
    "There will be more pockets of experimentation on basic income all across the world, it is likely the western countries will continue to experiment and debate basic income. This is due to the fact that citizens in the western countries are more likely to be displaced or disrupted by workplace automation (e.g. robo finance advisor), growing gig economy (e.g. Uber, Task Rabbit), widening income inequality (the rich gets richer), and declining economic mobility.\n",
    "    "
   ]
  },
  {
   "cell_type": "markdown",
   "metadata": {},
   "source": [
    "# TABLE OF CONTENT \n",
    "\n",
    "## INTRODUCTION\n",
    "\n",
    "### WHAT IS BASIC INCOME\n",
    "### THE OSMEIC FRAMEWORK - COMBINING DATA SCIENCE, DATA JOURNALISM AND SOCIAL SCIENCE\n",
    "\n",
    "## PART 1 OBTAIN DATA\n",
    "\n",
    "## PART 2 SCRUBBING DATA\n",
    "\n",
    "## PART 3 EXPLORING DATA\n",
    "\n",
    "## PART 4 MODEL DATA\n",
    "\n",
    "## PART 5 INTERPRET DATA\n",
    "\n",
    "## PART 6 CONTEXTUALIZE DATA\n",
    "\n"
   ]
  },
  {
   "cell_type": "markdown",
   "metadata": {},
   "source": [
    "# INTRODUCTION\n",
    "## WHAT IS BASIC INCOME\n",
    "\n",
    "I attempt to understand and provide insight into a contemporary issue revolving the debate of basic income. This issue is getting more prominence in mainstream and social media. This heighten publicity is due to the emergence of Future of Work -combinations of increasing workplace automation, growing gig economy, widening income inequality, and declining economic mobility. It is predicted that the Future of Work will likely to displace a large population out of work. Therefore, this increases the likelihood of social unrest, among other negative social implications. \n",
    "<br>\n",
    "The concept of basic income (also known as universal income) is a payment made to all adult individuals that allows people to meet their basic needs. It is made without any work or activity tests.\n",
    "<br>\n",
    "<br>\n",
    "There are three main components of basic income: \n",
    "<br>\n",
    "First, it is universal. It is paid automatically to all individuals (or all adult individuals) without a means/income test.\n",
    "<br>\n",
    "Second, it is unconditional. It is paid without conditions (for example, you do not need to report on your job search activity on the condition to receive social payment).\n",
    "<br>\n",
    "Third, it is adequate. It is set at a sufficient level to protect the general population against of going into poverty or hardship.\n",
    "<br>\n",
    "<br>\n",
    "The idea of basic income is not new. It was discussed and debated since the First World War, and in different disguises. For the purpose of this project, it will be beneficial for us to go down the history book to understand and uncover where we are coming from. This will arm us with more context to understand forward. \n",
    "<br>\n",
    "<br>\n",
    "**The State Bonus Scheme - Miller - First World War**\n",
    "The Milner proposed an allowance ‘which would be just sufficient to maintain life and liberty if all else failed’. The allowance would be universal and unconditional. It would be paid to all British living in Britain permanently with mothers receiving payments on behalf of children. There would be no work test. The Milner argued that pushing people into work by threatening them with starvation only led to inefficient workers.\n",
    "<br>\n",
    "<br>\n",
    "**Guaranteed income — Theobald - Early 1960s**\n",
    "American futurist Robert Theobald predicted that computers would become increasingly fast and powerful. With computers and other technology increasingly able to take over routine tasks, workers would find themselves displaced by machines. Both blue-collar and middle-income white-collar workers would be affected. In a 1967 interview, Theobald argued that:\n",
    "*... we must face up to the fact that we cannot afford to preserve our present socioeconomic system, which requires every man to be able to find a job at a time when the computer can take over toil, can take over all the structured tasks, that is the tasks for which the decision-making rules can be set out in advance. And therefore we have to break the present link between jobs and income. The necessary first step in this direction is a guaranteed income.*\n",
    "<br>\n",
    "<br>\n",
    "**Negative income tax — Friedman - Early 1960s**\n",
    "\n",
    "In 1962 economist Milton Friedman proposed a negative income tax (NIT) as simpler way to protect individuals against poverty:\n",
    "\n",
    "For an individual with no income, the NIT is like an income support payment. As with most income support payments, the amount the person receives reduces as they earn additional income. At a certain level of income they reach the break-even point and pay nothing, after that point they start paying tax. The NIT integrates the income support system into the tax system.\n",
    "\n",
    "Friedman argued that the NIT should replace current welfare programs—both cash payments and services. He argued that the scheme would have a number of advantages over current arrangements:\n",
    "\n",
    "1. It would help the poor in the most direct way possible.\n",
    "2. It would treat them as responsible individuals, not as incompetent wards of the state.\n",
    "3. It would give them an incentive to help themselves.\n",
    "4. It would cost less than present programs yet help the poor more.\n",
    "5. It would eliminate almost entirely the cumbrous welfare bureaucracy running the present programs.\n",
    "6. It could not be used as a political slush fund, as so many current programs—notably in the ‘war on poverty’—can be and have been used.\n",
    "<br>\n",
    "<br>\n",
    "\n",
    "**WHY BASIC INCOME IS BACK IN THE DEBATE? THE ARGUMENT FOR**\n",
    "\n",
    "As I stated earlier, this is due to a number of combined factors - increasing workplace automation, growing gig economy, and widening income inequality, and declining economic mobility.\n",
    "\n",
    "**WHY BASIC INCOME SHOULD STILL BE IN HISTORY BOOK? THE ARGUMENT AGAINST**\n",
    "\n",
    "There are three major argument against the implementation of basic income.\n",
    "1. There is no job destruction. The optimist forecaster argued that technological change will not result in widespread job destruction. \n",
    "2. The other welfare services will be negatively impacted. The basic income will likely to consume significant amount of current budgetary commitment of services such as aged care, educations, and health care. \n",
    "3. It may shift a large scale human de-motivation to work. It is likely low wage earner will not be participating, and therefore contributing to the general productive economy. They will be rent seeker."
   ]
  },
  {
   "cell_type": "markdown",
   "metadata": {},
   "source": [
    "## THE OSEMIC FRAMEWORK\n",
    "\n",
    "There are a few popular data science frameworks such as:\n",
    "\n",
    "**Harvard Data Science Workflow:** This workflow centers on business questions to drive data analysis. By asking powerful questions, this model drive better data context.\n",
    "\n",
    "**KDD Workflow:** The Knowledge Discovery in Databases (KDD): workflow centers on complext data discovery, especially in legacy data warehouse systems.\n",
    "\n",
    "**CRISP-DM Workflow:** The Cross-Industry Standard Process for Data Mining (CRISP-DM) workflow centers on iterative data analysis. It is based on a simple approach of bringing analytics to production in a business-oriented and systematic way.\n",
    "\n",
    "**Data Journalism Workflow:** This is a very interesting workflow because it centers around storytelling, and sharing of information through visual, and always thinks about the readers context.\n",
    "\n",
    "**OSEMN Workflow**: This workflow centers on a rapid, iterative data discovery, scrubbing, exploration, modelling, and interpretation.\n",
    "\n",
    "After considering different data science frameworks (as above), I have decided to creatively combined three frameworks. First, OSEMN workflow to drive data science discipline. \n",
    "\n",
    "Second, Data Journalism workflow to drive the open and continuous debate of basic income. The basic income debate will likely to persist next few years. Therefore, this workflow helps to provide continuity. \n",
    "\n",
    "Third, Analytical Sociology framework to drive sociological discussion."
   ]
  },
  {
   "attachments": {},
   "cell_type": "markdown",
   "metadata": {},
   "source": [
    "![Different%20Workflows.png](https://raw.githubusercontent.com/andrewwongls/dsc-3-final-project-online-ds-sp-000/master/Different%20Workflows.png)"
   ]
  },
  {
   "cell_type": "markdown",
   "metadata": {},
   "source": [
    "With a bit of creative re-organization of the OSEMN workflow, Data Journalism workflow, and Analytical Sociology framework above, I have developed a workflow that I will use through the this notebook to move the basic income debate in a more exploratory and insightful manners - a combination of data science (predictive analytics), journalism (capturing the latest news about basic income), and analytical sociology (basic income is essentially a sociological issue, and rightly so a need for sociological perspective).\n",
    "\n",
    "The diagram below illustrates the OSEMN workflow in Yellow (OSEMI), and Data Journalism workflow and Analytical Sociology in Green (Contextualize). \n",
    "\n",
    "THE Obtain, Scrub, Explore, Model, and Interpret worflow is fairly well-known in the data science industry, therefore I will not go into details. The part that I have creatively combined is the Data Journalism and Analytical Sociology, and it is all contained in Contextualize section. Throughout this notebook, as I explore the Dalia dataset (and importing new datasets) to continue on the following:\n",
    "\n",
    "**1. Understand current topic debate.** While exploring the dataset, and surfacing patterns, I will put on the journalist and sociologist viewpoints of the world, and basic income. \n",
    "\n",
    "**2. Compare with other datasets or perspectives.** If there are opportunities, I will start to explore into other datasets. This will be a time consuming exercise, however it will be worthwhile contribution to the basic income debate - from a different perspectives - therefore adding the richness to the debate.\n",
    "\n",
    "**3. Interpret predictive analytics outcome with human and social behavioural lens.** I will invest a majority of my time here to unpack the information/ outcome from the predictive analaysis outcome based on the logistic regression, XGBoost, Support Vector Machine, and Random Forrest.\n",
    "\n",
    "**4. Sensemaking of the current topic.** I hope this will provide some solid insights and conclusions to the basic income debate. From here, I will publish a Medium blodpost, in hope to extend this debate way into the future and add value for policy makers, and such."
   ]
  },
  {
   "attachments": {},
   "cell_type": "markdown",
   "metadata": {},
   "source": [
    "![OSEMIC%20Framework.png](https://raw.githubusercontent.com/andrewwongls/dsc-3-final-project-online-ds-sp-000/master/OSEMIC%20Framework.png)"
   ]
  },
  {
   "cell_type": "markdown",
   "metadata": {},
   "source": [
    "## PART 1 AND 2 OBTAINING AND SCRUBING DATA"
   ]
  },
  {
   "cell_type": "markdown",
   "metadata": {},
   "source": [
    "### IMPORTING NECESSARY LIBRARIES"
   ]
  },
  {
   "cell_type": "code",
   "execution_count": 20,
   "metadata": {},
   "outputs": [],
   "source": [
    "# importing necessary libraries\n",
    "\n",
    "import pandas as pd\n",
    "import numpy as np\n",
    "import matplotlib.pyplot as plt\n",
    "import seaborn as sns\n",
    "import xgboost as xgb\n",
    "import warnings\n",
    "warnings.filterwarnings(action='ignore')\n",
    "\n",
    "%matplotlib inline\n",
    "plt.style.use('seaborn')\n",
    "\n",
    "# importing Sci-kit Learn libraries\n",
    "from sklearn import svm\n",
    "from sklearn.model_selection import train_test_split, cross_val_score, KFold\n",
    "from sklearn.model_selection import RandomizedSearchCV, GridSearchCV\n",
    "from sklearn.decomposition import PCA\n",
    "from sklearn.preprocessing import StandardScaler, MinMaxScaler, Imputer, OneHotEncoder, LabelEncoder\n",
    "from sklearn.pipeline import Pipeline, make_pipeline, FeatureUnion\n",
    "from sklearn.base import BaseEstimator, TransformerMixin\n",
    "from sklearn.metrics import classification_report, accuracy_score, roc_curve, confusion_matrix, precision_score, recall_score, f1_score\n",
    "from sklearn.impute import SimpleImputer\n",
    "from sklearn import preprocessing\n",
    "\n",
    "# importing Sci-py libraries\n",
    "from scipy.stats import ttest_ind\n",
    "\n",
    "# importing statsmodels to perform statistical analysis\n",
    "import statsmodels.api as sm\n",
    "from scipy import stats\n",
    "from scipy.stats import chi2_contingency\n",
    "from scipy.stats import chisquare\n",
    "from statsmodels.formula.api import ols\n",
    "\n",
    "# importing Predictive Analytics/ Machine Learning libraries\n",
    "from xgboost import XGBClassifier\n",
    "from sklearn.linear_model import LogisticRegression, SGDClassifier\n",
    "from sklearn.ensemble import RandomForestClassifier, AdaBoostClassifier, GradientBoostingClassifier\n",
    "from sklearn.naive_bayes import GaussianNB"
   ]
  },
  {
   "cell_type": "markdown",
   "metadata": {},
   "source": [
    "### OBTAINING DATASET"
   ]
  },
  {
   "cell_type": "code",
   "execution_count": 21,
   "metadata": {},
   "outputs": [
    {
     "data": {
      "text/html": [
       "<div>\n",
       "<style scoped>\n",
       "    .dataframe tbody tr th:only-of-type {\n",
       "        vertical-align: middle;\n",
       "    }\n",
       "\n",
       "    .dataframe tbody tr th {\n",
       "        vertical-align: top;\n",
       "    }\n",
       "\n",
       "    .dataframe thead th {\n",
       "        text-align: right;\n",
       "    }\n",
       "</style>\n",
       "<table border=\"1\" class=\"dataframe\">\n",
       "  <thead>\n",
       "    <tr style=\"text-align: right;\">\n",
       "      <th></th>\n",
       "      <th>country_code</th>\n",
       "      <th>uuid</th>\n",
       "      <th>age</th>\n",
       "      <th>gender</th>\n",
       "      <th>rural</th>\n",
       "      <th>dem_education_level</th>\n",
       "      <th>dem_full_time_job</th>\n",
       "      <th>dem_has_children</th>\n",
       "      <th>question_bbi_2016wave4_basicincome_awareness</th>\n",
       "      <th>question_bbi_2016wave4_basicincome_vote</th>\n",
       "      <th>question_bbi_2016wave4_basicincome_effect</th>\n",
       "      <th>question_bbi_2016wave4_basicincome_argumentsfor</th>\n",
       "      <th>question_bbi_2016wave4_basicincome_argumentsagainst</th>\n",
       "      <th>age_group</th>\n",
       "      <th>weight</th>\n",
       "    </tr>\n",
       "  </thead>\n",
       "  <tbody>\n",
       "    <tr>\n",
       "      <th>0</th>\n",
       "      <td>AT</td>\n",
       "      <td>f6e7ee00-deac-0133-4de8-0a81e8b09a82</td>\n",
       "      <td>61</td>\n",
       "      <td>male</td>\n",
       "      <td>rural</td>\n",
       "      <td>no</td>\n",
       "      <td>no</td>\n",
       "      <td>no</td>\n",
       "      <td>I know something about it</td>\n",
       "      <td>I would not vote</td>\n",
       "      <td>None of the above</td>\n",
       "      <td>None of the above</td>\n",
       "      <td>None of the above</td>\n",
       "      <td>40_65</td>\n",
       "      <td>1.105.534.474</td>\n",
       "    </tr>\n",
       "    <tr>\n",
       "      <th>1</th>\n",
       "      <td>AT</td>\n",
       "      <td>54f0f1c0-dda1-0133-a559-0a81e8b09a82</td>\n",
       "      <td>57</td>\n",
       "      <td>male</td>\n",
       "      <td>urban</td>\n",
       "      <td>high</td>\n",
       "      <td>yes</td>\n",
       "      <td>yes</td>\n",
       "      <td>I understand it fully</td>\n",
       "      <td>I would probably vote for it</td>\n",
       "      <td>A basic income would not affect my work choices</td>\n",
       "      <td>It increases appreciation for household work a...</td>\n",
       "      <td>It might encourage people to stop working</td>\n",
       "      <td>40_65</td>\n",
       "      <td>1.533.248.826</td>\n",
       "    </tr>\n",
       "    <tr>\n",
       "      <th>2</th>\n",
       "      <td>AT</td>\n",
       "      <td>83127080-da3d-0133-c74f-0a81e8b09a82</td>\n",
       "      <td>32</td>\n",
       "      <td>male</td>\n",
       "      <td>urban</td>\n",
       "      <td>NaN</td>\n",
       "      <td>no</td>\n",
       "      <td>no</td>\n",
       "      <td>I have heard just a little about it</td>\n",
       "      <td>I would not vote</td>\n",
       "      <td>‰Û_ gain additional skills</td>\n",
       "      <td>It creates more equality of opportunity</td>\n",
       "      <td>Foreigners might come to my country and take a...</td>\n",
       "      <td>26_39</td>\n",
       "      <td>0.977591916</td>\n",
       "    </tr>\n",
       "    <tr>\n",
       "      <th>3</th>\n",
       "      <td>AT</td>\n",
       "      <td>15626d40-db13-0133-ea5c-0a81e8b09a82</td>\n",
       "      <td>45</td>\n",
       "      <td>male</td>\n",
       "      <td>rural</td>\n",
       "      <td>high</td>\n",
       "      <td>yes</td>\n",
       "      <td>yes</td>\n",
       "      <td>I have heard just a little about it</td>\n",
       "      <td>I would probably vote for it</td>\n",
       "      <td>‰Û_ work less</td>\n",
       "      <td>It reduces anxiety about financing basic needs</td>\n",
       "      <td>None of the above</td>\n",
       "      <td>40_65</td>\n",
       "      <td>1.105.534.474</td>\n",
       "    </tr>\n",
       "    <tr>\n",
       "      <th>4</th>\n",
       "      <td>AT</td>\n",
       "      <td>24954a70-db98-0133-4a64-0a81e8b09a82</td>\n",
       "      <td>41</td>\n",
       "      <td>female</td>\n",
       "      <td>urban</td>\n",
       "      <td>high</td>\n",
       "      <td>yes</td>\n",
       "      <td>yes</td>\n",
       "      <td>I have heard just a little about it</td>\n",
       "      <td>I would probably vote for it</td>\n",
       "      <td>None of the above</td>\n",
       "      <td>It reduces anxiety about financing basic needs</td>\n",
       "      <td>It is impossible to finance | It might encoura...</td>\n",
       "      <td>40_65</td>\n",
       "      <td>58.731.136</td>\n",
       "    </tr>\n",
       "    <tr>\n",
       "      <th>5</th>\n",
       "      <td>AT</td>\n",
       "      <td>28583060-dbe2-0133-ff9c-0a81e8b09a82</td>\n",
       "      <td>26</td>\n",
       "      <td>female</td>\n",
       "      <td>rural</td>\n",
       "      <td>high</td>\n",
       "      <td>yes</td>\n",
       "      <td>no</td>\n",
       "      <td>I understand it fully</td>\n",
       "      <td>I would vote against it</td>\n",
       "      <td>A basic income would not affect my work choices</td>\n",
       "      <td>It encourages financial independence and self-...</td>\n",
       "      <td>It is impossible to finance | It might encoura...</td>\n",
       "      <td>26_39</td>\n",
       "      <td>0.688873084</td>\n",
       "    </tr>\n",
       "    <tr>\n",
       "      <th>6</th>\n",
       "      <td>AT</td>\n",
       "      <td>b50dbb80-da53-0133-8956-0a81e8b09a82</td>\n",
       "      <td>26</td>\n",
       "      <td>female</td>\n",
       "      <td>urban</td>\n",
       "      <td>medium</td>\n",
       "      <td>no</td>\n",
       "      <td>no</td>\n",
       "      <td>I know something about it</td>\n",
       "      <td>I would probably vote for it</td>\n",
       "      <td>‰Û_ work as a freelancer</td>\n",
       "      <td>It reduces anxiety about financing basic needs</td>\n",
       "      <td>Foreigners might come to my country and take a...</td>\n",
       "      <td>26_39</td>\n",
       "      <td>0.955387527</td>\n",
       "    </tr>\n",
       "    <tr>\n",
       "      <th>7</th>\n",
       "      <td>AT</td>\n",
       "      <td>dd743bb0-d9a5-0133-53b2-0a81e8b09a82</td>\n",
       "      <td>47</td>\n",
       "      <td>male</td>\n",
       "      <td>urban</td>\n",
       "      <td>medium</td>\n",
       "      <td>yes</td>\n",
       "      <td>no</td>\n",
       "      <td>I know something about it</td>\n",
       "      <td>I would probably vote for it</td>\n",
       "      <td>A basic income would not affect my work choices</td>\n",
       "      <td>It increases appreciation for household work a...</td>\n",
       "      <td>It might encourage people to stop working | Fo...</td>\n",
       "      <td>40_65</td>\n",
       "      <td>1.533.248.826</td>\n",
       "    </tr>\n",
       "    <tr>\n",
       "      <th>8</th>\n",
       "      <td>AT</td>\n",
       "      <td>4fde2370-da48-0133-3a42-0a81e8b09a82</td>\n",
       "      <td>34</td>\n",
       "      <td>female</td>\n",
       "      <td>urban</td>\n",
       "      <td>medium</td>\n",
       "      <td>yes</td>\n",
       "      <td>no</td>\n",
       "      <td>I have heard just a little about it</td>\n",
       "      <td>I would probably vote for it</td>\n",
       "      <td>None of the above</td>\n",
       "      <td>It creates more equality of opportunity | It r...</td>\n",
       "      <td>Foreigners might come to my country and take a...</td>\n",
       "      <td>26_39</td>\n",
       "      <td>0.955387527</td>\n",
       "    </tr>\n",
       "    <tr>\n",
       "      <th>9</th>\n",
       "      <td>AT</td>\n",
       "      <td>9949c4c0-da5f-0133-c832-0a81e8b09a82</td>\n",
       "      <td>22</td>\n",
       "      <td>female</td>\n",
       "      <td>urban</td>\n",
       "      <td>no</td>\n",
       "      <td>no</td>\n",
       "      <td>yes</td>\n",
       "      <td>I understand it fully</td>\n",
       "      <td>I would vote for it</td>\n",
       "      <td>‰Û_ do more volunteering work</td>\n",
       "      <td>It increases solidarity, because it is funded ...</td>\n",
       "      <td>Foreigners might come to my country and take a...</td>\n",
       "      <td>14_25</td>\n",
       "      <td>1.041.864.825</td>\n",
       "    </tr>\n",
       "  </tbody>\n",
       "</table>\n",
       "</div>"
      ],
      "text/plain": [
       "  country_code                                  uuid  age  gender  rural  \\\n",
       "0           AT  f6e7ee00-deac-0133-4de8-0a81e8b09a82   61    male  rural   \n",
       "1           AT  54f0f1c0-dda1-0133-a559-0a81e8b09a82   57    male  urban   \n",
       "2           AT  83127080-da3d-0133-c74f-0a81e8b09a82   32    male  urban   \n",
       "3           AT  15626d40-db13-0133-ea5c-0a81e8b09a82   45    male  rural   \n",
       "4           AT  24954a70-db98-0133-4a64-0a81e8b09a82   41  female  urban   \n",
       "5           AT  28583060-dbe2-0133-ff9c-0a81e8b09a82   26  female  rural   \n",
       "6           AT  b50dbb80-da53-0133-8956-0a81e8b09a82   26  female  urban   \n",
       "7           AT  dd743bb0-d9a5-0133-53b2-0a81e8b09a82   47    male  urban   \n",
       "8           AT  4fde2370-da48-0133-3a42-0a81e8b09a82   34  female  urban   \n",
       "9           AT  9949c4c0-da5f-0133-c832-0a81e8b09a82   22  female  urban   \n",
       "\n",
       "  dem_education_level dem_full_time_job dem_has_children  \\\n",
       "0                  no                no               no   \n",
       "1                high               yes              yes   \n",
       "2                 NaN                no               no   \n",
       "3                high               yes              yes   \n",
       "4                high               yes              yes   \n",
       "5                high               yes               no   \n",
       "6              medium                no               no   \n",
       "7              medium               yes               no   \n",
       "8              medium               yes               no   \n",
       "9                  no                no              yes   \n",
       "\n",
       "  question_bbi_2016wave4_basicincome_awareness  \\\n",
       "0                    I know something about it   \n",
       "1                        I understand it fully   \n",
       "2          I have heard just a little about it   \n",
       "3          I have heard just a little about it   \n",
       "4          I have heard just a little about it   \n",
       "5                        I understand it fully   \n",
       "6                    I know something about it   \n",
       "7                    I know something about it   \n",
       "8          I have heard just a little about it   \n",
       "9                        I understand it fully   \n",
       "\n",
       "  question_bbi_2016wave4_basicincome_vote  \\\n",
       "0                        I would not vote   \n",
       "1            I would probably vote for it   \n",
       "2                        I would not vote   \n",
       "3            I would probably vote for it   \n",
       "4            I would probably vote for it   \n",
       "5                 I would vote against it   \n",
       "6            I would probably vote for it   \n",
       "7            I would probably vote for it   \n",
       "8            I would probably vote for it   \n",
       "9                     I would vote for it   \n",
       "\n",
       "         question_bbi_2016wave4_basicincome_effect  \\\n",
       "0                                None of the above   \n",
       "1  A basic income would not affect my work choices   \n",
       "2                       ‰Û_ gain additional skills   \n",
       "3                                    ‰Û_ work less   \n",
       "4                                None of the above   \n",
       "5  A basic income would not affect my work choices   \n",
       "6                         ‰Û_ work as a freelancer   \n",
       "7  A basic income would not affect my work choices   \n",
       "8                                None of the above   \n",
       "9                    ‰Û_ do more volunteering work   \n",
       "\n",
       "     question_bbi_2016wave4_basicincome_argumentsfor  \\\n",
       "0                                  None of the above   \n",
       "1  It increases appreciation for household work a...   \n",
       "2            It creates more equality of opportunity   \n",
       "3     It reduces anxiety about financing basic needs   \n",
       "4     It reduces anxiety about financing basic needs   \n",
       "5  It encourages financial independence and self-...   \n",
       "6     It reduces anxiety about financing basic needs   \n",
       "7  It increases appreciation for household work a...   \n",
       "8  It creates more equality of opportunity | It r...   \n",
       "9  It increases solidarity, because it is funded ...   \n",
       "\n",
       "  question_bbi_2016wave4_basicincome_argumentsagainst age_group         weight  \n",
       "0                                  None of the above      40_65  1.105.534.474  \n",
       "1          It might encourage people to stop working      40_65  1.533.248.826  \n",
       "2  Foreigners might come to my country and take a...      26_39    0.977591916  \n",
       "3                                  None of the above      40_65  1.105.534.474  \n",
       "4  It is impossible to finance | It might encoura...      40_65     58.731.136  \n",
       "5  It is impossible to finance | It might encoura...      26_39    0.688873084  \n",
       "6  Foreigners might come to my country and take a...      26_39    0.955387527  \n",
       "7  It might encourage people to stop working | Fo...      40_65  1.533.248.826  \n",
       "8  Foreigners might come to my country and take a...      26_39    0.955387527  \n",
       "9  Foreigners might come to my country and take a...      14_25  1.041.864.825  "
      ]
     },
     "execution_count": 21,
     "metadata": {},
     "output_type": "execute_result"
    }
   ],
   "source": [
    "# extracting Dalia dataset for a quick feel of the available columns and rows\n",
    "\n",
    "basic_income=pd.read_csv('basic_income_dataset_dalia.csv')\n",
    "basic_income.head(10)"
   ]
  },
  {
   "cell_type": "code",
   "execution_count": 22,
   "metadata": {},
   "outputs": [
    {
     "name": "stdout",
     "output_type": "stream",
     "text": [
      "<class 'pandas.core.frame.DataFrame'>\n",
      "RangeIndex: 9649 entries, 0 to 9648\n",
      "Data columns (total 15 columns):\n",
      "country_code                                           9649 non-null object\n",
      "uuid                                                   9649 non-null object\n",
      "age                                                    9649 non-null int64\n",
      "gender                                                 9649 non-null object\n",
      "rural                                                  9649 non-null object\n",
      "dem_education_level                                    8986 non-null object\n",
      "dem_full_time_job                                      9649 non-null object\n",
      "dem_has_children                                       9649 non-null object\n",
      "question_bbi_2016wave4_basicincome_awareness           9649 non-null object\n",
      "question_bbi_2016wave4_basicincome_vote                9649 non-null object\n",
      "question_bbi_2016wave4_basicincome_effect              9649 non-null object\n",
      "question_bbi_2016wave4_basicincome_argumentsfor        9649 non-null object\n",
      "question_bbi_2016wave4_basicincome_argumentsagainst    9649 non-null object\n",
      "age_group                                              9649 non-null object\n",
      "weight                                                 9649 non-null object\n",
      "dtypes: int64(1), object(14)\n",
      "memory usage: 1.1+ MB\n"
     ]
    },
    {
     "data": {
      "text/plain": [
       "(9649, 15)"
      ]
     },
     "execution_count": 22,
     "metadata": {},
     "output_type": "execute_result"
    }
   ],
   "source": [
    "# getting the datatype info to understand the type of data e.g. categorical, etc.\n",
    "\n",
    "basic_income.info()\n",
    "basic_income.shape"
   ]
  },
  {
   "cell_type": "markdown",
   "metadata": {},
   "source": [
    "### CHECKING FOR MISSING DATA"
   ]
  },
  {
   "cell_type": "markdown",
   "metadata": {},
   "source": [
    "The dataset is fairly clean with only one column (dem_education_level) has missing values."
   ]
  },
  {
   "cell_type": "code",
   "execution_count": 23,
   "metadata": {},
   "outputs": [
    {
     "data": {
      "text/plain": [
       "country_code                                             0\n",
       "uuid                                                     0\n",
       "age                                                      0\n",
       "gender                                                   0\n",
       "rural                                                    0\n",
       "dem_education_level                                    663\n",
       "dem_full_time_job                                        0\n",
       "dem_has_children                                         0\n",
       "question_bbi_2016wave4_basicincome_awareness             0\n",
       "question_bbi_2016wave4_basicincome_vote                  0\n",
       "question_bbi_2016wave4_basicincome_effect                0\n",
       "question_bbi_2016wave4_basicincome_argumentsfor          0\n",
       "question_bbi_2016wave4_basicincome_argumentsagainst      0\n",
       "age_group                                                0\n",
       "weight                                                   0\n",
       "dtype: int64"
      ]
     },
     "execution_count": 23,
     "metadata": {},
     "output_type": "execute_result"
    }
   ],
   "source": [
    "# checking for missing values\n",
    "\n",
    "basic_income.isna().sum()"
   ]
  },
  {
   "cell_type": "markdown",
   "metadata": {},
   "source": [
    "### SCRUBBING THE DATASET"
   ]
  },
  {
   "cell_type": "markdown",
   "metadata": {},
   "source": [
    "In most survey (including this Dalia Survey), typically the question description are quite lenghty in order to provide sufficient information/ context for the respondents to answe the question correctly. However, for the purpose of data analysis and presentation, we can reduce the wording to make it easier for the eyes."
   ]
  },
  {
   "cell_type": "code",
   "execution_count": 24,
   "metadata": {},
   "outputs": [],
   "source": [
    "basic_income.rename(columns = {'rural':'rural_or_urban',\n",
    "                            'dem_education_level':'education_level',\n",
    "                            'dem_full_time_job':'full_time_job',\n",
    "                            'dem_has_children':'has_children',\n",
    "                            'question_bbi_2016wave4_basicincome_awareness':'awareness_of_basic_income',\n",
    "                            'question_bbi_2016wave4_basicincome_vote':'going_to_vote',\n",
    "                            'question_bbi_2016wave4_basicincome_effect':'effect_on_work_choices',\n",
    "                            'question_bbi_2016wave4_basicincome_argumentsfor':'argument_for',\n",
    "                            'question_bbi_2016wave4_basicincome_argumentsagainst':'argument_against'},\n",
    "inplace=True)"
   ]
  },
  {
   "cell_type": "markdown",
   "metadata": {},
   "source": [
    "The education level column has about 663 missing value, we will need to resolve this. First, let's check the object type. It seems like \"nan\" is likely be the issue here. We can replace with \"no\"."
   ]
  },
  {
   "cell_type": "code",
   "execution_count": 25,
   "metadata": {},
   "outputs": [
    {
     "data": {
      "text/plain": [
       "array(['no', 'high', nan, 'medium', 'low'], dtype=object)"
      ]
     },
     "execution_count": 25,
     "metadata": {},
     "output_type": "execute_result"
    }
   ],
   "source": [
    "basic_income.education_level.unique()"
   ]
  },
  {
   "cell_type": "code",
   "execution_count": 26,
   "metadata": {},
   "outputs": [
    {
     "data": {
      "text/plain": [
       "medium    3578\n",
       "high      3270\n",
       "low       1815\n",
       "no         986\n",
       "Name: education_level, dtype: int64"
      ]
     },
     "execution_count": 26,
     "metadata": {},
     "output_type": "execute_result"
    }
   ],
   "source": [
    "basic_income['education_level'].fillna('no', inplace=True)\n",
    "basic_income.education_level.value_counts()"
   ]
  },
  {
   "cell_type": "code",
   "execution_count": 27,
   "metadata": {},
   "outputs": [],
   "source": [
    "basic_income.drop(['uuid', 'weight'], axis=1, inplace=True)"
   ]
  },
  {
   "cell_type": "code",
   "execution_count": 28,
   "metadata": {},
   "outputs": [
    {
     "data": {
      "text/html": [
       "<div>\n",
       "<style scoped>\n",
       "    .dataframe tbody tr th:only-of-type {\n",
       "        vertical-align: middle;\n",
       "    }\n",
       "\n",
       "    .dataframe tbody tr th {\n",
       "        vertical-align: top;\n",
       "    }\n",
       "\n",
       "    .dataframe thead th {\n",
       "        text-align: right;\n",
       "    }\n",
       "</style>\n",
       "<table border=\"1\" class=\"dataframe\">\n",
       "  <thead>\n",
       "    <tr style=\"text-align: right;\">\n",
       "      <th></th>\n",
       "      <th>country_code</th>\n",
       "      <th>gender</th>\n",
       "      <th>rural_or_urban</th>\n",
       "      <th>education_level</th>\n",
       "      <th>full_time_job</th>\n",
       "      <th>has_children</th>\n",
       "      <th>awareness_of_basic_income</th>\n",
       "      <th>going_to_vote</th>\n",
       "      <th>effect_on_work_choices</th>\n",
       "      <th>argument_for</th>\n",
       "      <th>argument_against</th>\n",
       "      <th>age_group</th>\n",
       "    </tr>\n",
       "  </thead>\n",
       "  <tbody>\n",
       "    <tr>\n",
       "      <th>count</th>\n",
       "      <td>9649</td>\n",
       "      <td>9649</td>\n",
       "      <td>9649</td>\n",
       "      <td>9649</td>\n",
       "      <td>9649</td>\n",
       "      <td>9649</td>\n",
       "      <td>9649</td>\n",
       "      <td>9649</td>\n",
       "      <td>9649</td>\n",
       "      <td>9649</td>\n",
       "      <td>9649</td>\n",
       "      <td>9649</td>\n",
       "    </tr>\n",
       "    <tr>\n",
       "      <th>unique</th>\n",
       "      <td>28</td>\n",
       "      <td>2</td>\n",
       "      <td>2</td>\n",
       "      <td>4</td>\n",
       "      <td>2</td>\n",
       "      <td>2</td>\n",
       "      <td>4</td>\n",
       "      <td>5</td>\n",
       "      <td>9</td>\n",
       "      <td>674</td>\n",
       "      <td>881</td>\n",
       "      <td>3</td>\n",
       "    </tr>\n",
       "    <tr>\n",
       "      <th>top</th>\n",
       "      <td>DE</td>\n",
       "      <td>male</td>\n",
       "      <td>urban</td>\n",
       "      <td>medium</td>\n",
       "      <td>yes</td>\n",
       "      <td>yes</td>\n",
       "      <td>I know something about it</td>\n",
       "      <td>I would probably vote for it</td>\n",
       "      <td>A basic income would not affect my work choices</td>\n",
       "      <td>None of the above</td>\n",
       "      <td>None of the above</td>\n",
       "      <td>40_65</td>\n",
       "    </tr>\n",
       "    <tr>\n",
       "      <th>freq</th>\n",
       "      <td>1420</td>\n",
       "      <td>5094</td>\n",
       "      <td>6878</td>\n",
       "      <td>3578</td>\n",
       "      <td>5702</td>\n",
       "      <td>5049</td>\n",
       "      <td>3389</td>\n",
       "      <td>3272</td>\n",
       "      <td>3349</td>\n",
       "      <td>2163</td>\n",
       "      <td>1381</td>\n",
       "      <td>4896</td>\n",
       "    </tr>\n",
       "  </tbody>\n",
       "</table>\n",
       "</div>"
      ],
      "text/plain": [
       "       country_code gender rural_or_urban education_level full_time_job  \\\n",
       "count          9649   9649           9649            9649          9649   \n",
       "unique           28      2              2               4             2   \n",
       "top              DE   male          urban          medium           yes   \n",
       "freq           1420   5094           6878            3578          5702   \n",
       "\n",
       "       has_children  awareness_of_basic_income                 going_to_vote  \\\n",
       "count          9649                       9649                          9649   \n",
       "unique            2                          4                             5   \n",
       "top             yes  I know something about it  I would probably vote for it   \n",
       "freq           5049                       3389                          3272   \n",
       "\n",
       "                                 effect_on_work_choices       argument_for  \\\n",
       "count                                              9649               9649   \n",
       "unique                                                9                674   \n",
       "top     A basic income would not affect my work choices  None of the above   \n",
       "freq                                               3349               2163   \n",
       "\n",
       "         argument_against age_group  \n",
       "count                9649      9649  \n",
       "unique                881         3  \n",
       "top     None of the above     40_65  \n",
       "freq                 1381      4896  "
      ]
     },
     "execution_count": 28,
     "metadata": {},
     "output_type": "execute_result"
    }
   ],
   "source": [
    "basic_income.describe(include='object')"
   ]
  },
  {
   "cell_type": "code",
   "execution_count": 29,
   "metadata": {},
   "outputs": [
    {
     "data": {
      "text/plain": [
       "29"
      ]
     },
     "execution_count": 29,
     "metadata": {},
     "output_type": "execute_result"
    }
   ],
   "source": [
    "# checking for any duplication\n",
    "\n",
    "basic_income.duplicated().sum()"
   ]
  },
  {
   "cell_type": "code",
   "execution_count": 30,
   "metadata": {},
   "outputs": [],
   "source": [
    "basic_income.drop_duplicates(keep='first', inplace=True)"
   ]
  },
  {
   "cell_type": "markdown",
   "metadata": {},
   "source": [
    "# PART 3  DATA EXPLORATION"
   ]
  },
  {
   "cell_type": "markdown",
   "metadata": {},
   "source": [
    "### DATA VISUALIZATION: BASIC INCOME AWARENESS AND PSYCHOGRAPHICS DIFFERENCES"
   ]
  },
  {
   "cell_type": "markdown",
   "metadata": {},
   "source": [
    "We have completed the process of obtaining and scrubbing the dataset. Now we are ready to get a feel of the data. The best way to get a feel of the data is through graphic or data vizualization. At this early stage of data exploration, I am interested to explore the relationships of the survey respondents' basic income understanding and their psychographics differences. The sub-sections will provide visualization of basic income understanding and the respondents:\n",
    "\n",
    "1. Age Group\n",
    "2. Gender\n",
    "3. Geography (rural or urban)\n",
    "4. Education level\n",
    "5. Whether they are in full-time job or not\n",
    "6. Whether they have children or not\n",
    "7. Whether they are going to vote or not\n",
    "8. Effect on their work choices (work less, work as freelancer)"
   ]
  },
  {
   "cell_type": "markdown",
   "metadata": {},
   "source": [
    "#### Understanding Basic Income Based on Age Group"
   ]
  },
  {
   "cell_type": "markdown",
   "metadata": {},
   "source": [
    "At first sight, the different age groups represent similar awareness of basic income. However, when we start to compare in-bewteen groups, the differences start to surface slowly. For instance, in comparison with 26-39 age group (prime working age), and 40-65 age group (prime + ageing working group), we can start to notice the older age group tends to be more aware of the concept of basic income. This can potentially attributed to the fact that the older age group has more vested interest to know about basic income and what it means for them in the future. Also, they are mostly like be in the group highly distrupted by technology and the gig economy - the core argument here is that the more it concern you (say basic income) the more likely you need to know the impact of such influencing debate (say basic income)."
   ]
  },
  {
   "cell_type": "code",
   "execution_count": 31,
   "metadata": {},
   "outputs": [
    {
     "data": {
      "text/plain": [
       "<matplotlib.legend.Legend at 0x17c997f5ac8>"
      ]
     },
     "execution_count": 31,
     "metadata": {},
     "output_type": "execute_result"
    },
    {
     "data": {
      "image/png": "[encoded data removed]",
      "text/plain": [
       "<Figure size 576x396 with 1 Axes>"
      ]
     },
     "metadata": {},
     "output_type": "display_data"
    }
   ],
   "source": [
    "# Plotting basic income awareness based on their age group\n",
    "sub_basic_income = basic_income.groupby('age_group')['awareness_of_basic_income'].value_counts(normalize=True).unstack()\n",
    "\n",
    "# reorder columns\n",
    "cols = list(sub_basic_income.columns.values)\n",
    "sub_basic_income = sub_basic_income[[cols[1],cols[0],cols[2],cols[3]]]\n",
    "\n",
    "sub_basic_income.plot(kind='bar',stacked=True,colormap='Wistia',sort_columns=True, title='Basic income awareness based on their age group')\n",
    "plt.legend(bbox_to_anchor=(1.04,1), loc=\"upper left\")"
   ]
  },
  {
   "cell_type": "markdown",
   "metadata": {},
   "source": [
    "### Basic Income Awareness Based on Gender"
   ]
  },
  {
   "cell_type": "markdown",
   "metadata": {},
   "source": [
    "Again, at first sight, there is little differences between male and female understanding of basic income. The small differences here are that male group they are more tendency to answer more knowledgable about basic income than the female group. It is hard to attribute to any distinct factors. The data here is not conclusive, or rather we cannot draw any conclusion from it."
   ]
  },
  {
   "cell_type": "code",
   "execution_count": 32,
   "metadata": {},
   "outputs": [
    {
     "data": {
      "text/plain": [
       "<matplotlib.legend.Legend at 0x17c99818cf8>"
      ]
     },
     "execution_count": 32,
     "metadata": {},
     "output_type": "execute_result"
    },
    {
     "data": {
      "image/png": "[encoded data removed]",
      "text/plain": [
       "<Figure size 576x396 with 1 Axes>"
      ]
     },
     "metadata": {},
     "output_type": "display_data"
    }
   ],
   "source": [
    "# Plotting basic income awareness based on gender\n",
    "sub_basic_income = basic_income.groupby('gender')['awareness_of_basic_income'].value_counts(normalize=True).unstack()\n",
    "\n",
    "# reorder columns\n",
    "cols = list(sub_basic_income.columns.values)\n",
    "sub_basic_income = sub_basic_income[[cols[1],cols[0],cols[2],cols[3]]]\n",
    "\n",
    "sub_basic_income.plot(kind='bar',stacked=True,colormap='Wistia',sort_columns=True, title='Basic income awareness based on gender')\n",
    "plt.legend(bbox_to_anchor=(1.04,1), loc=\"upper left\")"
   ]
  },
  {
   "cell_type": "markdown",
   "metadata": {},
   "source": [
    "### Basic Income Awareness Based on Geograpy (Rural or Urban)"
   ]
  },
  {
   "cell_type": "markdown",
   "metadata": {},
   "source": [
    "There are slightly more tendency for the urban dwellers to be aware of the concept of basic income. This can be attribute to the fact that there are more social debates (around the cafe and basic income information session, I presumed), basic income's radius blast is higher (impact on greater and deeper impact on urban respondents), and possibly other factors.  "
   ]
  },
  {
   "cell_type": "code",
   "execution_count": 33,
   "metadata": {},
   "outputs": [
    {
     "data": {
      "text/plain": [
       "<matplotlib.legend.Legend at 0x17c997f5ba8>"
      ]
     },
     "execution_count": 33,
     "metadata": {},
     "output_type": "execute_result"
    },
    {
     "data": {
      "image/png": "[encoded data removed]",
      "text/plain": [
       "<Figure size 576x396 with 1 Axes>"
      ]
     },
     "metadata": {},
     "output_type": "display_data"
    }
   ],
   "source": [
    "# Plotting basic income awareness based on geography\n",
    "sub_basic_income = basic_income.groupby('rural_or_urban')['awareness_of_basic_income'].value_counts(normalize=True).unstack()\n",
    "\n",
    "# reorder columns\n",
    "cols = list(sub_basic_income.columns.values)\n",
    "sub_basic_income = sub_basic_income[[cols[1],cols[0],cols[2],cols[3]]]\n",
    "\n",
    "sub_basic_income.plot(kind='bar',stacked=True,colormap='Wistia',sort_columns=True, title='Basic income awareness based on geography')\n",
    "plt.legend(bbox_to_anchor=(1.04,1), loc=\"upper left\")"
   ]
  },
  {
   "cell_type": "markdown",
   "metadata": {},
   "source": [
    "### Basic Income Awareness Based on Education"
   ]
  },
  {
   "cell_type": "markdown",
   "metadata": {},
   "source": [
    "There is not much of a surprise here - the higher the education level, the better the respondents understanding of basic income. "
   ]
  },
  {
   "cell_type": "code",
   "execution_count": 34,
   "metadata": {},
   "outputs": [
    {
     "data": {
      "text/plain": [
       "<matplotlib.legend.Legend at 0x17c9848c2b0>"
      ]
     },
     "execution_count": 34,
     "metadata": {},
     "output_type": "execute_result"
    },
    {
     "data": {
      "image/png": "[encoded data removed]",
      "text/plain": [
       "<Figure size 576x396 with 1 Axes>"
      ]
     },
     "metadata": {},
     "output_type": "display_data"
    }
   ],
   "source": [
    "# Plotting basic income awareness based on education\n",
    "sub_basic_income = basic_income.groupby('education_level')['awareness_of_basic_income'].value_counts(normalize=True).unstack()\n",
    "\n",
    "# reorder columns\n",
    "cols = list(sub_basic_income.columns.values)\n",
    "sub_basic_income = sub_basic_income[[cols[0],cols[1],cols[2],cols[3]]]\n",
    "\n",
    "sub_basic_income.plot(kind='bar',stacked=True,colormap='Wistia',sort_columns=True, title='Basic income awareness based on education level')\n",
    "plt.legend(bbox_to_anchor=(1.04,1), loc=\"upper left\")"
   ]
  },
  {
   "cell_type": "markdown",
   "metadata": {},
   "source": [
    "### Basic Income Awareness Based on Whether They Are Full-Time Job or Not"
   ]
  },
  {
   "cell_type": "markdown",
   "metadata": {},
   "source": [
    "The data here cannot help us to uncover the reason why there are differences in the respondents awareness of basic income. My initial thoughts are that there should not have much differences because basic income has universal appeal and impact, regardless of whether you have a full-time job or not. "
   ]
  },
  {
   "cell_type": "code",
   "execution_count": 35,
   "metadata": {},
   "outputs": [
    {
     "data": {
      "text/plain": [
       "<matplotlib.legend.Legend at 0x17c99a6fcf8>"
      ]
     },
     "execution_count": 35,
     "metadata": {},
     "output_type": "execute_result"
    },
    {
     "data": {
      "image/png": "[encoded data removed]",
      "text/plain": [
       "<Figure size 576x396 with 1 Axes>"
      ]
     },
     "metadata": {},
     "output_type": "display_data"
    }
   ],
   "source": [
    "# Plotting basic income awareness based on whether they are on full-time job or not\n",
    "sub_basic_income = basic_income.groupby('full_time_job')['awareness_of_basic_income'].value_counts(normalize=True).unstack()\n",
    "\n",
    "# reorder columns\n",
    "cols = list(sub_basic_income.columns.values)\n",
    "sub_basic_income = sub_basic_income[[cols[1],cols[0],cols[2],cols[3]]]\n",
    "\n",
    "sub_basic_income.plot(kind='bar',stacked=True,colormap='Wistia',sort_columns=True, title='Basic income awareness based on whether they are on full-time job or not')\n",
    "plt.legend(bbox_to_anchor=(1.04,1), loc=\"upper left\")"
   ]
  },
  {
   "cell_type": "markdown",
   "metadata": {},
   "source": [
    "### Basic Income Awareness Based on Whether They Have Children or Not"
   ]
  },
  {
   "cell_type": "markdown",
   "metadata": {},
   "source": [
    "Similarly with the above argument, the conclusiveness of the data here is muted. It is true that respondents with children has more knowledge about basic income, however I could not ascertain further other than speculating that respondents with children tend to be older, therefore their responses are similar to their age (see age group section above)"
   ]
  },
  {
   "cell_type": "code",
   "execution_count": 36,
   "metadata": {},
   "outputs": [
    {
     "data": {
      "text/plain": [
       "<matplotlib.legend.Legend at 0x17c99adbb38>"
      ]
     },
     "execution_count": 36,
     "metadata": {},
     "output_type": "execute_result"
    },
    {
     "data": {
      "image/png": "[encoded data removed]",
      "text/plain": [
       "<Figure size 576x396 with 1 Axes>"
      ]
     },
     "metadata": {},
     "output_type": "display_data"
    }
   ],
   "source": [
    "# Plotting basic income awareness based on whether they have children or not\n",
    "sub_basic_income = basic_income.groupby('has_children')['awareness_of_basic_income'].value_counts(normalize=True).unstack()\n",
    "\n",
    "# reorder columns\n",
    "cols = list(sub_basic_income.columns.values)\n",
    "sub_basic_income = sub_basic_income[[cols[1],cols[0],cols[2],cols[3]]]\n",
    "\n",
    "sub_basic_income.plot(kind='bar',stacked=True,colormap='Wistia',sort_columns=True, title='Basic income awareness based on whether they have children or not')\n",
    "plt.legend(bbox_to_anchor=(1.04,1), loc=\"upper left\")"
   ]
  },
  {
   "cell_type": "markdown",
   "metadata": {},
   "source": [
    "### Basic Income Awareness Based on Whether They Are Going to Vote"
   ]
  },
  {
   "cell_type": "markdown",
   "metadata": {},
   "source": [
    "A quick glance of the data visualization, we can observe a clear pattern here - the higher a respondent's awareness of basic income concept, the more likely the respondent will be going to the voting ballot on voting day. "
   ]
  },
  {
   "cell_type": "code",
   "execution_count": 37,
   "metadata": {},
   "outputs": [
    {
     "data": {
      "text/plain": [
       "<matplotlib.legend.Legend at 0x17c99b66320>"
      ]
     },
     "execution_count": 37,
     "metadata": {},
     "output_type": "execute_result"
    },
    {
     "data": {
      "image/png": "[encoded data removed]",
      "text/plain": [
       "<Figure size 576x396 with 1 Axes>"
      ]
     },
     "metadata": {},
     "output_type": "display_data"
    }
   ],
   "source": [
    "# Plotting basic income awareness based on whether they are going to vote\n",
    "sub_basic_income = basic_income.groupby('going_to_vote')['awareness_of_basic_income'].value_counts(normalize=True).unstack()\n",
    "\n",
    "# reorder columns\n",
    "cols = list(sub_basic_income.columns.values)\n",
    "sub_basic_income = sub_basic_income[[cols[1],cols[0],cols[2],cols[3]]]\n",
    "\n",
    "sub_basic_income.plot(kind='bar',stacked=True,colormap='Wistia',sort_columns=True, title='Basic income awareness based on whether they going to vote')\n",
    "plt.legend(bbox_to_anchor=(1.04,1), loc=\"upper left\")"
   ]
  },
  {
   "cell_type": "markdown",
   "metadata": {},
   "source": [
    "### Basic Income Awareness and Its Effect on Work Choices"
   ]
  },
  {
   "cell_type": "markdown",
   "metadata": {},
   "source": [
    "This is a hard statistics to unpack because it is based on something that we asked prior to implementation of basic income. The this point in time, for those who are fully awaren of basic income said that it will not change their work choices. The sentiment that we should dive deeper is what will be the short and long term effect. And, more importantly, it is likely they will change their mind over time due to further awareness of basic income, or something else. \n",
    "\n",
    "Broadly, for others, basic income will have effect on their work choices."
   ]
  },
  {
   "cell_type": "code",
   "execution_count": 38,
   "metadata": {},
   "outputs": [
    {
     "data": {
      "text/plain": [
       "<matplotlib.legend.Legend at 0x17c99c20b70>"
      ]
     },
     "execution_count": 38,
     "metadata": {},
     "output_type": "execute_result"
    },
    {
     "data": {
      "image/png": "[encoded data removed]",
      "text/plain": [
       "<Figure size 576x396 with 1 Axes>"
      ]
     },
     "metadata": {},
     "output_type": "display_data"
    }
   ],
   "source": [
    "# Plotting basic income awareness based on work choices\n",
    "sub_basic_income = basic_income.groupby('effect_on_work_choices')['awareness_of_basic_income'].value_counts(normalize=True).unstack()\n",
    "\n",
    "# reorder columns\n",
    "cols = list(sub_basic_income.columns.values)\n",
    "sub_basic_income = sub_basic_income[[cols[1],cols[0],cols[2],cols[3]]]\n",
    "\n",
    "sub_basic_income.plot(kind='bar',stacked=True,colormap='Wistia',sort_columns=True, title='Basic income awareness based on work choices')\n",
    "plt.legend(bbox_to_anchor=(1.04,1), loc=\"upper left\")"
   ]
  },
  {
   "cell_type": "markdown",
   "metadata": {},
   "source": [
    "### Basic Income Awareness Based on Their Nationalities"
   ]
  },
  {
   "cell_type": "markdown",
   "metadata": {},
   "source": [
    "This is a quick snapshot of all the respondents nationalities and their respective awareness of basic income. There is a mix of responses. For example Czech Republic has the lowest awareness of basic income vs. Portugal who respondents have highest awareness of basic income. We will deep dive into nationalities differences in the coming section. "
   ]
  },
  {
   "cell_type": "code",
   "execution_count": 39,
   "metadata": {},
   "outputs": [
    {
     "data": {
      "text/plain": [
       "<matplotlib.legend.Legend at 0x17c99e15ef0>"
      ]
     },
     "execution_count": 39,
     "metadata": {},
     "output_type": "execute_result"
    },
    {
     "data": {
      "image/png": "[encoded data removed]",
      "text/plain": [
       "<Figure size 576x396 with 1 Axes>"
      ]
     },
     "metadata": {},
     "output_type": "display_data"
    }
   ],
   "source": [
    "# Plotting basic income awareness based on their nationalities\n",
    "sub_basic_income = basic_income.groupby('country_code')['awareness_of_basic_income'].value_counts(normalize=True).unstack()\n",
    "\n",
    "# reordering columns\n",
    "cols = list(sub_basic_income.columns.values)\n",
    "sub_basic_income = sub_basic_income[[cols[1],cols[0],cols[2],cols[3]]]\n",
    "\n",
    "sub_basic_income.plot(kind='bar',stacked=True,colormap='Wistia',sort_columns=True, title='Basic income awareness based their nationalities')\n",
    "plt.legend(bbox_to_anchor=(1.04,1), loc=\"upper left\")"
   ]
  },
  {
   "cell_type": "markdown",
   "metadata": {},
   "source": [
    "### DATA VISUALIZATION: BASIC INCOME UNDERSTANDING AND COUNTRIES DIFFERENCES BASED ON MIMIMUM WAGE, UNEMPLOYMENT, AND RISK OF POVERTY"
   ]
  },
  {
   "cell_type": "markdown",
   "metadata": {},
   "source": [
    "### MINIMUM WAGE"
   ]
  },
  {
   "attachments": {},
   "cell_type": "markdown",
   "metadata": {},
   "source": [
    "![European_countries_by_hourly_gross_minimum_wage_%28USD%29.jpg](https://raw.githubusercontent.com/andrewwongls/dsc-3-final-project-online-ds-sp-000/master/European_countries_by_hourly_gross_minimum_wage_(USD).jpg)"
   ]
  },
  {
   "cell_type": "markdown",
   "metadata": {},
   "source": [
    "### UNEMPLOYMENT RATE"
   ]
  },
  {
   "attachments": {},
   "cell_type": "markdown",
   "metadata": {},
   "source": [
    "![Unemployment2%20-%20Eurostat.PNG](https://raw.githubusercontent.com/andrewwongls/dsc-3-final-project-online-ds-sp-000/master/Unemployment2%20-%20Eurostat.PNG)"
   ]
  },
  {
   "cell_type": "markdown",
   "metadata": {},
   "source": [
    "### RISK OF GOING INTO POVERTY RATE"
   ]
  },
  {
   "attachments": {},
   "cell_type": "markdown",
   "metadata": {},
   "source": [
    "![Risk%20of%20Poverty2%20-%20Eurostat.PNG](https://raw.githubusercontent.com/andrewwongls/dsc-3-final-project-online-ds-sp-000/master/Risk%20of%20Poverty2%20-%20Eurostat.PNG)"
   ]
  },
  {
   "cell_type": "markdown",
   "metadata": {},
   "source": [
    "### GERMANY\n",
    "\n",
    "The German (who enjoy high minimum wage) has responded with a resounding Yes, especially when they are living in the urban area and they have medium to high awareness of basic income (Top #1 and #3 respondents). At the polarizing end, German who lives in the urban area, and they have medium awareness of basic income reponded with a No to basic income (Top #2).\n",
    "\n",
    "With the lowest unemployment rate in Europe, in another words, the German enjoys the highest job security in Europe, therefore able to well able to absorb emplyment shocks. Although the German are not at the most comfortable level in terms of going into poverty, they are not at great risk in comparison other European countries (sitting at #13)"
   ]
  },
  {
   "cell_type": "code",
   "execution_count": 40,
   "metadata": {},
   "outputs": [
    {
     "data": {
      "text/html": [
       "<div>\n",
       "<style scoped>\n",
       "    .dataframe tbody tr th:only-of-type {\n",
       "        vertical-align: middle;\n",
       "    }\n",
       "\n",
       "    .dataframe tbody tr th {\n",
       "        vertical-align: top;\n",
       "    }\n",
       "\n",
       "    .dataframe thead th {\n",
       "        text-align: right;\n",
       "    }\n",
       "</style>\n",
       "<table border=\"1\" class=\"dataframe\">\n",
       "  <thead>\n",
       "    <tr style=\"text-align: right;\">\n",
       "      <th></th>\n",
       "      <th></th>\n",
       "      <th>going_to_vote</th>\n",
       "      <th>I would not vote</th>\n",
       "      <th>I would probably vote against it</th>\n",
       "      <th>I would probably vote for it</th>\n",
       "      <th>I would vote against it</th>\n",
       "      <th>I would vote for it</th>\n",
       "    </tr>\n",
       "    <tr>\n",
       "      <th>rural_or_urban</th>\n",
       "      <th>education_level</th>\n",
       "      <th>full_time_job</th>\n",
       "      <th></th>\n",
       "      <th></th>\n",
       "      <th></th>\n",
       "      <th></th>\n",
       "      <th></th>\n",
       "    </tr>\n",
       "  </thead>\n",
       "  <tbody>\n",
       "    <tr>\n",
       "      <th rowspan=\"5\" valign=\"top\">rural</th>\n",
       "      <th rowspan=\"2\" valign=\"top\">high</th>\n",
       "      <th>no</th>\n",
       "      <td>1</td>\n",
       "      <td>6</td>\n",
       "      <td>11</td>\n",
       "      <td>2</td>\n",
       "      <td>17</td>\n",
       "    </tr>\n",
       "    <tr>\n",
       "      <th>yes</th>\n",
       "      <td>3</td>\n",
       "      <td>32</td>\n",
       "      <td>20</td>\n",
       "      <td>20</td>\n",
       "      <td>13</td>\n",
       "    </tr>\n",
       "    <tr>\n",
       "      <th rowspan=\"2\" valign=\"top\">low</th>\n",
       "      <th>no</th>\n",
       "      <td>9</td>\n",
       "      <td>12</td>\n",
       "      <td>26</td>\n",
       "      <td>6</td>\n",
       "      <td>21</td>\n",
       "    </tr>\n",
       "    <tr>\n",
       "      <th>yes</th>\n",
       "      <td>11</td>\n",
       "      <td>10</td>\n",
       "      <td>29</td>\n",
       "      <td>12</td>\n",
       "      <td>16</td>\n",
       "    </tr>\n",
       "    <tr>\n",
       "      <th>medium</th>\n",
       "      <th>no</th>\n",
       "      <td>9</td>\n",
       "      <td>8</td>\n",
       "      <td>35</td>\n",
       "      <td>10</td>\n",
       "      <td>35</td>\n",
       "    </tr>\n",
       "  </tbody>\n",
       "</table>\n",
       "</div>"
      ],
      "text/plain": [
       "going_to_vote                                 I would not vote  \\\n",
       "rural_or_urban education_level full_time_job                     \n",
       "rural          high            no                            1   \n",
       "                               yes                           3   \n",
       "               low             no                            9   \n",
       "                               yes                          11   \n",
       "               medium          no                            9   \n",
       "\n",
       "going_to_vote                                 I would probably vote against it  \\\n",
       "rural_or_urban education_level full_time_job                                     \n",
       "rural          high            no                                            6   \n",
       "                               yes                                          32   \n",
       "               low             no                                           12   \n",
       "                               yes                                          10   \n",
       "               medium          no                                            8   \n",
       "\n",
       "going_to_vote                                 I would probably vote for it  \\\n",
       "rural_or_urban education_level full_time_job                                 \n",
       "rural          high            no                                       11   \n",
       "                               yes                                      20   \n",
       "               low             no                                       26   \n",
       "                               yes                                      29   \n",
       "               medium          no                                       35   \n",
       "\n",
       "going_to_vote                                 I would vote against it  \\\n",
       "rural_or_urban education_level full_time_job                            \n",
       "rural          high            no                                   2   \n",
       "                               yes                                 20   \n",
       "               low             no                                   6   \n",
       "                               yes                                 12   \n",
       "               medium          no                                  10   \n",
       "\n",
       "going_to_vote                                 I would vote for it  \n",
       "rural_or_urban education_level full_time_job                       \n",
       "rural          high            no                              17  \n",
       "                               yes                             13  \n",
       "               low             no                              21  \n",
       "                               yes                             16  \n",
       "               medium          no                              35  "
      ]
     },
     "execution_count": 40,
     "metadata": {},
     "output_type": "execute_result"
    },
    {
     "data": {
      "image/png": "[encoded data removed]",
      "text/plain": [
       "<Figure size 576x396 with 1 Axes>"
      ]
     },
     "metadata": {},
     "output_type": "display_data"
    }
   ],
   "source": [
    "## Plotting basic income vote in Germany\n",
    "sub_basic_income = basic_income[basic_income['country_code']=='DE'].groupby(['rural_or_urban', 'education_level', 'full_time_job'])['going_to_vote'].value_counts(normalize=False).unstack()\n",
    "\n",
    "sub_basic_income.plot(kind='bar',stacked=True,colormap='Spectral',sort_columns=True, title='Basic income vote by geography and job situation in Germany - High Minimum Wage')\n",
    "plt.legend(bbox_to_anchor=(1.04,1), loc=\"upper left\")\n",
    "sub_basic_income.head()"
   ]
  },
  {
   "cell_type": "markdown",
   "metadata": {},
   "source": [
    "### POLAND\n",
    "\n",
    "The Polish (who enjoy a low minimum wage = 3.99 Euro, as compared to the German minimum wage = 10.13 Euro) has responded with a resounding Yes, especially when they are living in the urban area and they have medium to high awareness of basic income (Top #1 and #2 respondents). At the polarizing end, Polish who lives in the urban area, and they have medium awareness of basic income reponded with a No to basic income (Top #3). The Polish exhibits close charateristics as the German in their view of Basic Income. \n",
    "\n",
    "With a modest unemployment rate in Europe, in another words, the Polish enjoys the reasonable job security in Europe, therefore able to well able to absorb emplyment shocks. Although the Polish are not at the most comfortable level in terms of going into poverty, they are not at great risk in comparison other European countries (sitting at #9)"
   ]
  },
  {
   "cell_type": "code",
   "execution_count": 41,
   "metadata": {},
   "outputs": [
    {
     "data": {
      "text/html": [
       "<div>\n",
       "<style scoped>\n",
       "    .dataframe tbody tr th:only-of-type {\n",
       "        vertical-align: middle;\n",
       "    }\n",
       "\n",
       "    .dataframe tbody tr th {\n",
       "        vertical-align: top;\n",
       "    }\n",
       "\n",
       "    .dataframe thead th {\n",
       "        text-align: right;\n",
       "    }\n",
       "</style>\n",
       "<table border=\"1\" class=\"dataframe\">\n",
       "  <thead>\n",
       "    <tr style=\"text-align: right;\">\n",
       "      <th></th>\n",
       "      <th></th>\n",
       "      <th>going_to_vote</th>\n",
       "      <th>I would not vote</th>\n",
       "      <th>I would probably vote against it</th>\n",
       "      <th>I would probably vote for it</th>\n",
       "      <th>I would vote against it</th>\n",
       "      <th>I would vote for it</th>\n",
       "    </tr>\n",
       "    <tr>\n",
       "      <th>rural_or_urban</th>\n",
       "      <th>education_level</th>\n",
       "      <th>full_time_job</th>\n",
       "      <th></th>\n",
       "      <th></th>\n",
       "      <th></th>\n",
       "      <th></th>\n",
       "      <th></th>\n",
       "    </tr>\n",
       "  </thead>\n",
       "  <tbody>\n",
       "    <tr>\n",
       "      <th rowspan=\"5\" valign=\"top\">rural</th>\n",
       "      <th rowspan=\"2\" valign=\"top\">high</th>\n",
       "      <th>no</th>\n",
       "      <td>2.0</td>\n",
       "      <td>1.0</td>\n",
       "      <td>3.0</td>\n",
       "      <td>NaN</td>\n",
       "      <td>4.0</td>\n",
       "    </tr>\n",
       "    <tr>\n",
       "      <th>yes</th>\n",
       "      <td>1.0</td>\n",
       "      <td>9.0</td>\n",
       "      <td>6.0</td>\n",
       "      <td>3.0</td>\n",
       "      <td>6.0</td>\n",
       "    </tr>\n",
       "    <tr>\n",
       "      <th rowspan=\"2\" valign=\"top\">low</th>\n",
       "      <th>no</th>\n",
       "      <td>4.0</td>\n",
       "      <td>1.0</td>\n",
       "      <td>4.0</td>\n",
       "      <td>NaN</td>\n",
       "      <td>5.0</td>\n",
       "    </tr>\n",
       "    <tr>\n",
       "      <th>yes</th>\n",
       "      <td>1.0</td>\n",
       "      <td>NaN</td>\n",
       "      <td>2.0</td>\n",
       "      <td>NaN</td>\n",
       "      <td>4.0</td>\n",
       "    </tr>\n",
       "    <tr>\n",
       "      <th>medium</th>\n",
       "      <th>no</th>\n",
       "      <td>3.0</td>\n",
       "      <td>3.0</td>\n",
       "      <td>11.0</td>\n",
       "      <td>8.0</td>\n",
       "      <td>6.0</td>\n",
       "    </tr>\n",
       "  </tbody>\n",
       "</table>\n",
       "</div>"
      ],
      "text/plain": [
       "going_to_vote                                 I would not vote  \\\n",
       "rural_or_urban education_level full_time_job                     \n",
       "rural          high            no                          2.0   \n",
       "                               yes                         1.0   \n",
       "               low             no                          4.0   \n",
       "                               yes                         1.0   \n",
       "               medium          no                          3.0   \n",
       "\n",
       "going_to_vote                                 I would probably vote against it  \\\n",
       "rural_or_urban education_level full_time_job                                     \n",
       "rural          high            no                                          1.0   \n",
       "                               yes                                         9.0   \n",
       "               low             no                                          1.0   \n",
       "                               yes                                         NaN   \n",
       "               medium          no                                          3.0   \n",
       "\n",
       "going_to_vote                                 I would probably vote for it  \\\n",
       "rural_or_urban education_level full_time_job                                 \n",
       "rural          high            no                                      3.0   \n",
       "                               yes                                     6.0   \n",
       "               low             no                                      4.0   \n",
       "                               yes                                     2.0   \n",
       "               medium          no                                     11.0   \n",
       "\n",
       "going_to_vote                                 I would vote against it  \\\n",
       "rural_or_urban education_level full_time_job                            \n",
       "rural          high            no                                 NaN   \n",
       "                               yes                                3.0   \n",
       "               low             no                                 NaN   \n",
       "                               yes                                NaN   \n",
       "               medium          no                                 8.0   \n",
       "\n",
       "going_to_vote                                 I would vote for it  \n",
       "rural_or_urban education_level full_time_job                       \n",
       "rural          high            no                             4.0  \n",
       "                               yes                            6.0  \n",
       "               low             no                             5.0  \n",
       "                               yes                            4.0  \n",
       "               medium          no                             6.0  "
      ]
     },
     "execution_count": 41,
     "metadata": {},
     "output_type": "execute_result"
    },
    {
     "data": {
      "image/png": "[encoded data removed]",
      "text/plain": [
       "<Figure size 576x396 with 1 Axes>"
      ]
     },
     "metadata": {},
     "output_type": "display_data"
    }
   ],
   "source": [
    "## Plotting basic income vote in Poland\n",
    "sub_basic_income = basic_income[basic_income['country_code']=='PL'].groupby(['rural_or_urban', 'education_level', 'full_time_job'])['going_to_vote'].value_counts(normalize=False).unstack()\n",
    "\n",
    "sub_basic_income.plot(kind='bar',stacked=True,colormap='Spectral',sort_columns=True, title='Basic income vote by geography and job situation in Poland - Medium Minimum Wage')\n",
    "plt.legend(bbox_to_anchor=(1.04,1), loc=\"upper left\")\n",
    "sub_basic_income.head()"
   ]
  },
  {
   "cell_type": "markdown",
   "metadata": {},
   "source": [
    "### BELARUS\n",
    "\n",
    "The Belarusian (who enjoy low minimum wage = 0.75 Euro) has responded with a resounding Yes, especially when they are living in the urban area and they have medium to high awareness of basic income (Top #1 and #2 respondents). At the polarizing end, German who lives in the urban area, and they have medium awareness of basic income reponded with a No to basic income (Top #3). Belarusian exhibits close charateristics as the German and Polish in their view of Basic Income.\n",
    "\n",
    "There is no data for unemployment and risk of poverty for Belarus."
   ]
  },
  {
   "cell_type": "code",
   "execution_count": 42,
   "metadata": {},
   "outputs": [
    {
     "data": {
      "text/html": [
       "<div>\n",
       "<style scoped>\n",
       "    .dataframe tbody tr th:only-of-type {\n",
       "        vertical-align: middle;\n",
       "    }\n",
       "\n",
       "    .dataframe tbody tr th {\n",
       "        vertical-align: top;\n",
       "    }\n",
       "\n",
       "    .dataframe thead th {\n",
       "        text-align: right;\n",
       "    }\n",
       "</style>\n",
       "<table border=\"1\" class=\"dataframe\">\n",
       "  <thead>\n",
       "    <tr style=\"text-align: right;\">\n",
       "      <th></th>\n",
       "      <th></th>\n",
       "      <th>going_to_vote</th>\n",
       "      <th>I would not vote</th>\n",
       "      <th>I would probably vote against it</th>\n",
       "      <th>I would probably vote for it</th>\n",
       "      <th>I would vote against it</th>\n",
       "      <th>I would vote for it</th>\n",
       "    </tr>\n",
       "    <tr>\n",
       "      <th>rural_or_urban</th>\n",
       "      <th>education_level</th>\n",
       "      <th>full_time_job</th>\n",
       "      <th></th>\n",
       "      <th></th>\n",
       "      <th></th>\n",
       "      <th></th>\n",
       "      <th></th>\n",
       "    </tr>\n",
       "  </thead>\n",
       "  <tbody>\n",
       "    <tr>\n",
       "      <th rowspan=\"5\" valign=\"top\">rural</th>\n",
       "      <th rowspan=\"2\" valign=\"top\">high</th>\n",
       "      <th>no</th>\n",
       "      <td>NaN</td>\n",
       "      <td>3.0</td>\n",
       "      <td>1.0</td>\n",
       "      <td>NaN</td>\n",
       "      <td>2.0</td>\n",
       "    </tr>\n",
       "    <tr>\n",
       "      <th>yes</th>\n",
       "      <td>NaN</td>\n",
       "      <td>NaN</td>\n",
       "      <td>6.0</td>\n",
       "      <td>3.0</td>\n",
       "      <td>4.0</td>\n",
       "    </tr>\n",
       "    <tr>\n",
       "      <th rowspan=\"2\" valign=\"top\">low</th>\n",
       "      <th>no</th>\n",
       "      <td>4.0</td>\n",
       "      <td>2.0</td>\n",
       "      <td>5.0</td>\n",
       "      <td>1.0</td>\n",
       "      <td>1.0</td>\n",
       "    </tr>\n",
       "    <tr>\n",
       "      <th>yes</th>\n",
       "      <td>NaN</td>\n",
       "      <td>1.0</td>\n",
       "      <td>4.0</td>\n",
       "      <td>1.0</td>\n",
       "      <td>4.0</td>\n",
       "    </tr>\n",
       "    <tr>\n",
       "      <th>medium</th>\n",
       "      <th>no</th>\n",
       "      <td>NaN</td>\n",
       "      <td>NaN</td>\n",
       "      <td>2.0</td>\n",
       "      <td>NaN</td>\n",
       "      <td>4.0</td>\n",
       "    </tr>\n",
       "  </tbody>\n",
       "</table>\n",
       "</div>"
      ],
      "text/plain": [
       "going_to_vote                                 I would not vote  \\\n",
       "rural_or_urban education_level full_time_job                     \n",
       "rural          high            no                          NaN   \n",
       "                               yes                         NaN   \n",
       "               low             no                          4.0   \n",
       "                               yes                         NaN   \n",
       "               medium          no                          NaN   \n",
       "\n",
       "going_to_vote                                 I would probably vote against it  \\\n",
       "rural_or_urban education_level full_time_job                                     \n",
       "rural          high            no                                          3.0   \n",
       "                               yes                                         NaN   \n",
       "               low             no                                          2.0   \n",
       "                               yes                                         1.0   \n",
       "               medium          no                                          NaN   \n",
       "\n",
       "going_to_vote                                 I would probably vote for it  \\\n",
       "rural_or_urban education_level full_time_job                                 \n",
       "rural          high            no                                      1.0   \n",
       "                               yes                                     6.0   \n",
       "               low             no                                      5.0   \n",
       "                               yes                                     4.0   \n",
       "               medium          no                                      2.0   \n",
       "\n",
       "going_to_vote                                 I would vote against it  \\\n",
       "rural_or_urban education_level full_time_job                            \n",
       "rural          high            no                                 NaN   \n",
       "                               yes                                3.0   \n",
       "               low             no                                 1.0   \n",
       "                               yes                                1.0   \n",
       "               medium          no                                 NaN   \n",
       "\n",
       "going_to_vote                                 I would vote for it  \n",
       "rural_or_urban education_level full_time_job                       \n",
       "rural          high            no                             2.0  \n",
       "                               yes                            4.0  \n",
       "               low             no                             1.0  \n",
       "                               yes                            4.0  \n",
       "               medium          no                             4.0  "
      ]
     },
     "execution_count": 42,
     "metadata": {},
     "output_type": "execute_result"
    },
    {
     "data": {
      "image/png": "[encoded data removed]",
      "text/plain": [
       "<Figure size 576x396 with 1 Axes>"
      ]
     },
     "metadata": {},
     "output_type": "display_data"
    }
   ],
   "source": [
    "## Plotting basic income vote in Belarus\n",
    "sub_basic_income = basic_income[basic_income['country_code']=='BE'].groupby(['rural_or_urban', 'education_level', 'full_time_job'])['going_to_vote'].value_counts(normalize=False).unstack()\n",
    "\n",
    "sub_basic_income.plot(kind='bar',stacked=True,colormap='Spectral',sort_columns=True, title='Basic income vote by geography and job situation in Belarus - Low Minimum Wage')\n",
    "plt.legend(bbox_to_anchor=(1.04,1), loc=\"upper left\")\n",
    "sub_basic_income.head()"
   ]
  },
  {
   "cell_type": "markdown",
   "metadata": {},
   "source": [
    "**SWEDEN**\n",
    "\n",
    "The Swedish has no miinimum wage law, and most respondents has responded with a resounding Yes, especially when they are living in the urban area and they have medium to high awareness of basic income (Top #1 and #2 respondents). Suprisingly, the Swedish who are living in the rural area, and medium level of awareness of basic awareness are in support of basic income. This clearly show the socialist democractic nature of Sweden as a country.\n",
    "\n",
    "With a modest unemployment rate in Europe, in another words, the Swedish enjoys the reasonable job security in Europe, therefore able to well able to absorb emplyment shocks. Although the Swedish are at very comfortable level in terms of going into poverty, they are not at great risk in comparison other European countries (sitting at #23)"
   ]
  },
  {
   "cell_type": "code",
   "execution_count": 43,
   "metadata": {},
   "outputs": [
    {
     "data": {
      "text/html": [
       "<div>\n",
       "<style scoped>\n",
       "    .dataframe tbody tr th:only-of-type {\n",
       "        vertical-align: middle;\n",
       "    }\n",
       "\n",
       "    .dataframe tbody tr th {\n",
       "        vertical-align: top;\n",
       "    }\n",
       "\n",
       "    .dataframe thead th {\n",
       "        text-align: right;\n",
       "    }\n",
       "</style>\n",
       "<table border=\"1\" class=\"dataframe\">\n",
       "  <thead>\n",
       "    <tr style=\"text-align: right;\">\n",
       "      <th></th>\n",
       "      <th></th>\n",
       "      <th>going_to_vote</th>\n",
       "      <th>I would not vote</th>\n",
       "      <th>I would probably vote against it</th>\n",
       "      <th>I would probably vote for it</th>\n",
       "      <th>I would vote against it</th>\n",
       "      <th>I would vote for it</th>\n",
       "    </tr>\n",
       "    <tr>\n",
       "      <th>rural_or_urban</th>\n",
       "      <th>education_level</th>\n",
       "      <th>full_time_job</th>\n",
       "      <th></th>\n",
       "      <th></th>\n",
       "      <th></th>\n",
       "      <th></th>\n",
       "      <th></th>\n",
       "    </tr>\n",
       "  </thead>\n",
       "  <tbody>\n",
       "    <tr>\n",
       "      <th rowspan=\"5\" valign=\"top\">rural</th>\n",
       "      <th rowspan=\"2\" valign=\"top\">high</th>\n",
       "      <th>no</th>\n",
       "      <td>2.0</td>\n",
       "      <td>NaN</td>\n",
       "      <td>NaN</td>\n",
       "      <td>NaN</td>\n",
       "      <td>NaN</td>\n",
       "    </tr>\n",
       "    <tr>\n",
       "      <th>yes</th>\n",
       "      <td>NaN</td>\n",
       "      <td>NaN</td>\n",
       "      <td>1.0</td>\n",
       "      <td>NaN</td>\n",
       "      <td>3.0</td>\n",
       "    </tr>\n",
       "    <tr>\n",
       "      <th rowspan=\"2\" valign=\"top\">low</th>\n",
       "      <th>no</th>\n",
       "      <td>NaN</td>\n",
       "      <td>NaN</td>\n",
       "      <td>1.0</td>\n",
       "      <td>NaN</td>\n",
       "      <td>NaN</td>\n",
       "    </tr>\n",
       "    <tr>\n",
       "      <th>yes</th>\n",
       "      <td>1.0</td>\n",
       "      <td>NaN</td>\n",
       "      <td>1.0</td>\n",
       "      <td>1.0</td>\n",
       "      <td>NaN</td>\n",
       "    </tr>\n",
       "    <tr>\n",
       "      <th>medium</th>\n",
       "      <th>no</th>\n",
       "      <td>NaN</td>\n",
       "      <td>NaN</td>\n",
       "      <td>1.0</td>\n",
       "      <td>1.0</td>\n",
       "      <td>NaN</td>\n",
       "    </tr>\n",
       "  </tbody>\n",
       "</table>\n",
       "</div>"
      ],
      "text/plain": [
       "going_to_vote                                 I would not vote  \\\n",
       "rural_or_urban education_level full_time_job                     \n",
       "rural          high            no                          2.0   \n",
       "                               yes                         NaN   \n",
       "               low             no                          NaN   \n",
       "                               yes                         1.0   \n",
       "               medium          no                          NaN   \n",
       "\n",
       "going_to_vote                                 I would probably vote against it  \\\n",
       "rural_or_urban education_level full_time_job                                     \n",
       "rural          high            no                                          NaN   \n",
       "                               yes                                         NaN   \n",
       "               low             no                                          NaN   \n",
       "                               yes                                         NaN   \n",
       "               medium          no                                          NaN   \n",
       "\n",
       "going_to_vote                                 I would probably vote for it  \\\n",
       "rural_or_urban education_level full_time_job                                 \n",
       "rural          high            no                                      NaN   \n",
       "                               yes                                     1.0   \n",
       "               low             no                                      1.0   \n",
       "                               yes                                     1.0   \n",
       "               medium          no                                      1.0   \n",
       "\n",
       "going_to_vote                                 I would vote against it  \\\n",
       "rural_or_urban education_level full_time_job                            \n",
       "rural          high            no                                 NaN   \n",
       "                               yes                                NaN   \n",
       "               low             no                                 NaN   \n",
       "                               yes                                1.0   \n",
       "               medium          no                                 1.0   \n",
       "\n",
       "going_to_vote                                 I would vote for it  \n",
       "rural_or_urban education_level full_time_job                       \n",
       "rural          high            no                             NaN  \n",
       "                               yes                            3.0  \n",
       "               low             no                             NaN  \n",
       "                               yes                            NaN  \n",
       "               medium          no                             NaN  "
      ]
     },
     "execution_count": 43,
     "metadata": {},
     "output_type": "execute_result"
    },
    {
     "data": {
      "image/png": "[encoded data removed]",
      "text/plain": [
       "<Figure size 576x396 with 1 Axes>"
      ]
     },
     "metadata": {},
     "output_type": "display_data"
    }
   ],
   "source": [
    "## Plotting basic income vote in Sweden\n",
    "sub_basic_income = basic_income[basic_income['country_code']=='SK'].groupby(['rural_or_urban', 'education_level', 'full_time_job'])['going_to_vote'].value_counts(normalize=False).unstack()\n",
    "\n",
    "sub_basic_income.plot(kind='bar',stacked=True,colormap='Spectral',sort_columns=True, title='Basic income vote by geography and job situation in Sweden - No Minimum Wage')\n",
    "plt.legend(bbox_to_anchor=(1.04,1), loc=\"upper left\")\n",
    "sub_basic_income.head()"
   ]
  },
  {
   "cell_type": "markdown",
   "metadata": {},
   "source": [
    "# PART 4A  MAKE PREDICTION BASED ON THE HYPOTHESIS TESTING"
   ]
  },
  {
   "cell_type": "markdown",
   "metadata": {},
   "source": [
    "## HYPOTHESIS TESTING"
   ]
  },
  {
   "cell_type": "markdown",
   "metadata": {},
   "source": [
    "This section is to fine-tune the participants propensity to vote or not. We are combining those who are stating 'I would probably vote for it' and 'I would vote for it' as they will vote for basic income. And, we will removing those who stated 'I would vote against it' and I would probably vote against it'.\n",
    "\n",
    "> Based on the initial extraction of survey dataset, a resounding 72% of the participants will either vote or probably will vote for basic income. "
   ]
  },
  {
   "cell_type": "code",
   "execution_count": 44,
   "metadata": {},
   "outputs": [
    {
     "data": {
      "text/plain": [
       "array(['I would not vote', 'I would probably vote for it',\n",
       "       'I would vote against it', 'I would vote for it',\n",
       "       'I would probably vote against it'], dtype=object)"
      ]
     },
     "execution_count": 44,
     "metadata": {},
     "output_type": "execute_result"
    }
   ],
   "source": [
    "# extracting the datatype\n",
    "basic_income['going_to_vote'].unique()"
   ]
  },
  {
   "cell_type": "code",
   "execution_count": 45,
   "metadata": {},
   "outputs": [],
   "source": [
    "# making new column with vote or not \n",
    "\n",
    "def vote_or_no(result):\n",
    "    if result == 'I would probably vote for it':\n",
    "        return 1\n",
    "    elif result == 'I would vote for it':\n",
    "        return 1\n",
    "    else:\n",
    "        return 0"
   ]
  },
  {
   "cell_type": "code",
   "execution_count": 46,
   "metadata": {},
   "outputs": [],
   "source": [
    "basic_income['results'] = basic_income['going_to_vote'].apply(vote_or_no)"
   ]
  },
  {
   "cell_type": "code",
   "execution_count": 47,
   "metadata": {},
   "outputs": [],
   "source": [
    "# removing rows where they would not vote\n",
    "\n",
    "basic_income = basic_income[basic_income['going_to_vote'] != 'I would not vote']"
   ]
  },
  {
   "cell_type": "code",
   "execution_count": 48,
   "metadata": {},
   "outputs": [
    {
     "data": {
      "text/plain": [
       "1    0.716917\n",
       "0    0.283083\n",
       "Name: results, dtype: float64"
      ]
     },
     "execution_count": 48,
     "metadata": {},
     "output_type": "execute_result"
    }
   ],
   "source": [
    "# checking the values\n",
    "\n",
    "basic_income['results'].value_counts(normalize = True)"
   ]
  },
  {
   "cell_type": "markdown",
   "metadata": {},
   "source": [
    "### Hypothesis Test 1 Average Age and Going to Vote\n",
    "> Null Hypothesis: Average age of someone that would vote for basic income == average age of someone that would not vote for basic income\n",
    "<br>\n",
    "> H0: = μ1 μ2\n",
    "<br>\n",
    "<br>\n",
    "> Alternative Hypothesis: Average of some one that would vote for basic income != average of age someone that would not vote for basic income\n",
    "<br>\n",
    "> HA: μ1 ≠ μ2\n",
    "\n"
   ]
  },
  {
   "cell_type": "code",
   "execution_count": 49,
   "metadata": {},
   "outputs": [
    {
     "data": {
      "text/plain": [
       "37.76321422690598"
      ]
     },
     "execution_count": 49,
     "metadata": {},
     "output_type": "execute_result"
    }
   ],
   "source": [
    "# averaging age of someone that would vote for basic income\n",
    "basic_income[basic_income['results'] == 1]['age'].mean()"
   ]
  },
  {
   "cell_type": "code",
   "execution_count": 50,
   "metadata": {},
   "outputs": [
    {
     "data": {
      "image/png": "[encoded data removed]",
      "text/plain": [
       "<Figure size 576x432 with 2 Axes>"
      ]
     },
     "metadata": {},
     "output_type": "display_data"
    }
   ],
   "source": [
    "fig = plt.figure(figsize = (8, 6))\n",
    "\n",
    "ax1 = plt.subplot(121)\n",
    "basic_income[basic_income['results'] == 1]['age'].hist(ax = ax1)\n",
    "ax1.set_title('Vote For')\n",
    "\n",
    "ax2 = plt.subplot(122)\n",
    "basic_income[basic_income['results'] == 0]['age'].hist(ax = ax2)\n",
    "ax2.set_title('Vote Against')\n",
    "\n",
    "plt.show()"
   ]
  },
  {
   "cell_type": "code",
   "execution_count": 51,
   "metadata": {},
   "outputs": [
    {
     "data": {
      "text/plain": [
       "1.2301135462383073"
      ]
     },
     "execution_count": 51,
     "metadata": {},
     "output_type": "execute_result"
    }
   ],
   "source": [
    "# Finding the average difference in age\n",
    "original_diff = abs(basic_income[basic_income['results'] == 1]['age'].mean() - basic_income[basic_income['results'] == 0]['age'].mean())\n",
    "original_diff"
   ]
  },
  {
   "cell_type": "code",
   "execution_count": 52,
   "metadata": {},
   "outputs": [
    {
     "data": {
      "text/plain": [
       "4235.5"
      ]
     },
     "execution_count": 52,
     "metadata": {},
     "output_type": "execute_result"
    }
   ],
   "source": [
    "basic_income.shape[0] / 2"
   ]
  },
  {
   "cell_type": "code",
   "execution_count": 53,
   "metadata": {},
   "outputs": [],
   "source": [
    "# Splitting the data into 2 random samples and see what the difference.  Repeat this 10,000 times to see how often the \n",
    "# difference is greater than 1.2 (my original difference)\n",
    "\n",
    "my_diffs = []\n",
    "\n",
    "for i in range(10000):\n",
    "    sample_a = basic_income['age'].sample(int(basic_income.shape[0]/2))\n",
    "    sample_b = basic_income.drop(sample_a.index)['age']\n",
    "    diff = abs(np.mean(sample_a) - np.mean(sample_b))\n",
    "    my_diffs.append(diff)\n"
   ]
  },
  {
   "cell_type": "code",
   "execution_count": 54,
   "metadata": {},
   "outputs": [
    {
     "data": {
      "image/png": "[encoded data removed]",
      "text/plain": [
       "<Figure size 576x396 with 1 Axes>"
      ]
     },
     "metadata": {},
     "output_type": "display_data"
    }
   ],
   "source": [
    "plt.hist(my_diffs)\n",
    "plt.axvline(original_diff, color = 'k', linewidth = 5)\n",
    "plt.show()"
   ]
  },
  {
   "cell_type": "code",
   "execution_count": 55,
   "metadata": {},
   "outputs": [],
   "source": [
    "my_count = 0\n",
    "for indv_diff in my_diffs:\n",
    "    if indv_diff > original_diff:\n",
    "        my_count += 1"
   ]
  },
  {
   "cell_type": "code",
   "execution_count": 56,
   "metadata": {},
   "outputs": [
    {
     "data": {
      "text/plain": [
       "0.0"
      ]
     },
     "execution_count": 56,
     "metadata": {},
     "output_type": "execute_result"
    }
   ],
   "source": [
    "my_count / len(my_diffs)"
   ]
  },
  {
   "cell_type": "markdown",
   "metadata": {},
   "source": [
    "**T-TEST**\n",
    "**INTERPRETING HYPOTHESIS 1 T-TEST**\n",
    "\n",
    "In performing a hypothesis test in statistics, a p-value determine the significance of results. If the p-value is a number between 0 and 1 and interpreted in the following way: A small p-value (typically ≤ 0.05) indicates strong evidence against the null hypothesis, so you reject the null hypothesis.\n",
    "\n",
    "The Hypothesis 1 T-Test below indicates a high p-value. Therefore we ACCEPT ALTERNATIVE HYPOTHESIS that there is a statistically significant difference in the age group and going to vote. The results are statistically significant at alpha = 0.05"
   ]
  },
  {
   "cell_type": "code",
   "execution_count": 57,
   "metadata": {},
   "outputs": [
    {
     "data": {
      "text/plain": [
       "Ttest_indResult(statistic=-4.205480480541265, pvalue=2.6321055968143773e-05)"
      ]
     },
     "execution_count": 57,
     "metadata": {},
     "output_type": "execute_result"
    }
   ],
   "source": [
    "ttest_ind(basic_income[basic_income['results'] == 1]['age'], basic_income[basic_income['results'] == 0]['age'])"
   ]
  },
  {
   "cell_type": "markdown",
   "metadata": {},
   "source": [
    "**WELCH'S T-TEST**\n",
    "\n",
    "The Hypothesis 1 Welch's T-Test below indicates a high p-value. Therefore we ACCEPT ALTERNATIVE HYPOTHESIS that there is a statistically significant difference in the age group and going to vote."
   ]
  },
  {
   "cell_type": "code",
   "execution_count": 58,
   "metadata": {},
   "outputs": [
    {
     "data": {
      "text/plain": [
       "Ttest_indResult(statistic=-4.238137204839117, pvalue=2.2993164701316606e-05)"
      ]
     },
     "execution_count": 58,
     "metadata": {},
     "output_type": "execute_result"
    }
   ],
   "source": [
    "# running welch's t-test\n",
    "\n",
    "stats.ttest_ind(basic_income[basic_income['results'] == 1]['age'], basic_income[basic_income['results'] == 0]['age'], equal_var=False)"
   ]
  },
  {
   "cell_type": "markdown",
   "metadata": {},
   "source": [
    "**EFFECT SIZE (COHEN'S d)\n",
    "<br>\n",
    "Cohen suggested that:**\n",
    "\n",
    "d=0.2 be considered a 'small' effect size\n",
    "\n",
    "d=0.5 represents a 'medium' effect size\n",
    "\n",
    "d=0.8 a 'large' effect size.\n",
    "\n",
    "This means that if two groups' means don't differ by 0.2 standard deviations or more, the difference is trivial, even if it is statistically signficant.\n",
    "\n",
    "The positive (+) or negative (-) sign of Cohen's d depends on which sample means that we label for experimental group (C1), and control group (C2), then a negative effect size indicates the effect decreases your mean, and a positive effect size indicates that the effect increases your mean. If C1 is bigger than C2, your effect size will be positive. If the C2 mean is larger than C1, then the effect size will be negative. In short, the sign of Cohen’s d effect tells you the direction of the effect.\n",
    "\n",
    "The Hypothesis 2 Effect Size (Cohen's d) below indicates a lower than 0.2 d-value (regardless of the negative sign). Therefore, we can conclude that the effect size is very small."
   ]
  },
  {
   "cell_type": "code",
   "execution_count": 59,
   "metadata": {},
   "outputs": [
    {
     "data": {
      "text/plain": [
       "-0.10142782813251647"
      ]
     },
     "execution_count": 59,
     "metadata": {},
     "output_type": "execute_result"
    }
   ],
   "source": [
    "# running effect size calculation\n",
    "\n",
    "def cohens_d(group1, group2):\n",
    "    numer = group1.mean() - group2.mean()\n",
    "    n1, n2 = len(group1), len(group2)\n",
    "    var1, var2 = group1.var(), group2.var()\n",
    "    pooled_var = (n1 * var1 + n2 * var2) / (n1 + n2)\n",
    "    denom = np.sqrt(pooled_var)\n",
    "    return numer / denom\n",
    "cohens_d(basic_income[basic_income['results'] == 1]['age'], basic_income[basic_income['results'] == 0]['age'])"
   ]
  },
  {
   "cell_type": "markdown",
   "metadata": {},
   "source": [
    "**Outcome Hypothesis Test 1 Average Age and Going to Vote**\n",
    "\n",
    "> T-Test: Statistically significant with a pvalue=2.63\n",
    "\n",
    "> Welch's T-Test: Statistically significant with a pvalue=2.29\n",
    "\n",
    "> Cohen Effect Size: Small effect size with a - 0.01"
   ]
  },
  {
   "cell_type": "markdown",
   "metadata": {},
   "source": [
    "### Hypothesis Test 2 Education Level and Going to Vote\n",
    "> Null Hypothesis: Education level of someone that would vote for basic income == education level of someone that would not vote for basic income\n",
    "<br>\n",
    "> H0: = μ1 μ2\n",
    "<br>\n",
    "<br>\n",
    "> Alternative Hypothesis: Education level of someone that would vote for basic income != education level someone that would not vote for basic income\n",
    "<br>\n",
    "> HA: μ1 ≠ μ2\n"
   ]
  },
  {
   "cell_type": "code",
   "execution_count": 60,
   "metadata": {},
   "outputs": [
    {
     "data": {
      "text/plain": [
       "education_level  results\n",
       "high             1          2085\n",
       "                 0           928\n",
       "low              1          1141\n",
       "                 0           380\n",
       "medium           1          2314\n",
       "                 0           892\n",
       "no               1           533\n",
       "                 0           198\n",
       "Name: results, dtype: int64"
      ]
     },
     "execution_count": 60,
     "metadata": {},
     "output_type": "execute_result"
    }
   ],
   "source": [
    "basic_income.groupby('education_level')['results'].value_counts()"
   ]
  },
  {
   "cell_type": "code",
   "execution_count": 61,
   "metadata": {},
   "outputs": [],
   "source": [
    "table = [[2085, 928], [1141, 380], [2314,892], [533,198]]"
   ]
  },
  {
   "cell_type": "code",
   "execution_count": 62,
   "metadata": {},
   "outputs": [
    {
     "data": {
      "text/plain": [
       "(18.411068968567257,\n",
       " 0.00036180865326133335,\n",
       " 3,\n",
       " array([[2160.06953134,  852.93046866],\n",
       "        [1090.43005548,  430.56994452],\n",
       "        [2298.43442333,  907.56557667],\n",
       "        [ 524.06598985,  206.93401015]]))"
      ]
     },
     "execution_count": 62,
     "metadata": {},
     "output_type": "execute_result"
    }
   ],
   "source": [
    "chi2_contingency(table)"
   ]
  },
  {
   "cell_type": "markdown",
   "metadata": {},
   "source": [
    "**Outcome Hypothesis Test 2 Education Level and Going to Vote**\n",
    "\n",
    "> T-Test: Statistically insignificant with a pvalue=0.0004"
   ]
  },
  {
   "cell_type": "markdown",
   "metadata": {},
   "source": [
    "### Hypothesis Test 3 Gender and Going to Vote"
   ]
  },
  {
   "cell_type": "markdown",
   "metadata": {},
   "source": [
    "> Null Hypothesis: Gender of someone that would vote for basic income == gender of someone that would not vote for basic income\n",
    "<br>\n",
    "> H0: = μ1 μ2\n",
    "<br>\n",
    "<br>\n",
    "> Alternative Hypothesis: Gender of someone that would vote for basic income != gender someone that would not vote for basic income\n",
    "<br>\n",
    "> HA: μ1 ≠ μ2"
   ]
  },
  {
   "cell_type": "code",
   "execution_count": 63,
   "metadata": {},
   "outputs": [
    {
     "data": {
      "text/plain": [
       "gender  results\n",
       "female  1          2858\n",
       "        0          1091\n",
       "male    1          3215\n",
       "        0          1307\n",
       "Name: results, dtype: int64"
      ]
     },
     "execution_count": 63,
     "metadata": {},
     "output_type": "execute_result"
    }
   ],
   "source": [
    "basic_income.groupby('gender')['results'].value_counts()"
   ]
  },
  {
   "cell_type": "code",
   "execution_count": 64,
   "metadata": {},
   "outputs": [],
   "source": [
    "table = [[2858, 1091], [3215, 1307]]"
   ]
  },
  {
   "cell_type": "code",
   "execution_count": 65,
   "metadata": {},
   "outputs": [
    {
     "data": {
      "text/plain": [
       "(1.6286564868261184,\n",
       " 0.20188897603825035,\n",
       " 1,\n",
       " array([[2831.10341164, 1117.89658836],\n",
       "        [3241.89658836, 1280.10341164]]))"
      ]
     },
     "execution_count": 65,
     "metadata": {},
     "output_type": "execute_result"
    }
   ],
   "source": [
    "chi2_contingency(table)"
   ]
  },
  {
   "cell_type": "markdown",
   "metadata": {},
   "source": [
    "**Outcome Hypothesis Test 3 Gender and Going to Vote**\n",
    "\n",
    "> T-Test: Statistically significant with a pvalue=0.20"
   ]
  },
  {
   "cell_type": "markdown",
   "metadata": {},
   "source": [
    "### Hypothesis Test 4 Whether Respondents in Full-Time Job and Going to Vote"
   ]
  },
  {
   "cell_type": "markdown",
   "metadata": {},
   "source": [
    "> Null Hypothesis: Someone with full-time job that would vote for basic income == someone with full-time job that would not vote for basic income\n",
    "<br>\n",
    "> H0: = μ1 μ2\n",
    "<br>\n",
    "<br>\n",
    "> Alternative Hypothesis: Someone with full-time job that would vote for basic income != someone with full-time job that would not vote for basic income\n",
    "<br>\n",
    "> HA: μ1 ≠ μ2"
   ]
  },
  {
   "cell_type": "code",
   "execution_count": 66,
   "metadata": {},
   "outputs": [
    {
     "data": {
      "text/plain": [
       "full_time_job  results\n",
       "no             1          2548\n",
       "               0           774\n",
       "yes            1          3525\n",
       "               0          1624\n",
       "Name: results, dtype: int64"
      ]
     },
     "execution_count": 66,
     "metadata": {},
     "output_type": "execute_result"
    }
   ],
   "source": [
    "basic_income.groupby('full_time_job')['results'].value_counts()"
   ]
  },
  {
   "cell_type": "code",
   "execution_count": 67,
   "metadata": {},
   "outputs": [],
   "source": [
    "table = [[2548, 774], [3525, 1624]]"
   ]
  },
  {
   "cell_type": "code",
   "execution_count": 68,
   "metadata": {},
   "outputs": [
    {
     "data": {
      "text/plain": [
       "(67.16436232939276,\n",
       " 2.4978891660844075e-16,\n",
       " 1,\n",
       " array([[2381.59674183,  940.40325817],\n",
       "        [3691.40325817, 1457.59674183]]))"
      ]
     },
     "execution_count": 68,
     "metadata": {},
     "output_type": "execute_result"
    }
   ],
   "source": [
    "chi2_contingency(table)"
   ]
  },
  {
   "cell_type": "markdown",
   "metadata": {},
   "source": [
    "**Outcome Hypothesis Test 4 Full-Time Job (or not) and Going to Vote**\n",
    "\n",
    "> T-Test: Statistically significant with a pvalue=2.50"
   ]
  },
  {
   "cell_type": "markdown",
   "metadata": {},
   "source": [
    "### Hypothesis Test 5 Has Children and Going to Vote"
   ]
  },
  {
   "cell_type": "markdown",
   "metadata": {},
   "source": [
    "> Null Hypothesis: Someone who has children that would vote for basic income == Someone who has children that would not vote for basic income\n",
    "<br>\n",
    "> H0: = μ1 μ2\n",
    "<br>\n",
    "<br>\n",
    "> Alternative Hypothesis: Someone who has children that would vote for basic income != Someone who has children that would not vote for basic income\n",
    "<br>\n",
    "> HA: μ1 ≠ μ2"
   ]
  },
  {
   "cell_type": "code",
   "execution_count": 69,
   "metadata": {},
   "outputs": [
    {
     "data": {
      "text/plain": [
       "has_children  results\n",
       "no            1          2874\n",
       "              0          1089\n",
       "yes           1          3199\n",
       "              0          1309\n",
       "Name: results, dtype: int64"
      ]
     },
     "execution_count": 69,
     "metadata": {},
     "output_type": "execute_result"
    }
   ],
   "source": [
    "basic_income.groupby('has_children')['results'].value_counts()"
   ]
  },
  {
   "cell_type": "code",
   "execution_count": 70,
   "metadata": {},
   "outputs": [],
   "source": [
    "table = [[2874, 1089], [3199, 1309]]"
   ]
  },
  {
   "cell_type": "code",
   "execution_count": 71,
   "metadata": {},
   "outputs": [
    {
     "data": {
      "text/plain": [
       "(2.4465500466252488,\n",
       " 0.11778348514391929,\n",
       " 1,\n",
       " array([[2841.14024318, 1121.85975682],\n",
       "        [3231.85975682, 1276.14024318]]))"
      ]
     },
     "execution_count": 71,
     "metadata": {},
     "output_type": "execute_result"
    }
   ],
   "source": [
    "chi2_contingency(table)"
   ]
  },
  {
   "cell_type": "markdown",
   "metadata": {},
   "source": [
    "**Outcome Hypothesis Test 5 Has Children (or not) and Going to Vote**\n",
    "\n",
    "> T-Test: Statistically significant with a pvalue=0.12"
   ]
  },
  {
   "cell_type": "markdown",
   "metadata": {},
   "source": [
    "### Hypothesis Test 6 Awareness of Basic Income and Going to Vote"
   ]
  },
  {
   "cell_type": "markdown",
   "metadata": {},
   "source": [
    "> Null Hypothesis: Someone who has awareness of basic income that would vote for basic income == Someone who has awareness of basic income that would not vote for basic income\n",
    "<br>\n",
    "> H0: = μ1 μ2\n",
    "<br>\n",
    "<br>\n",
    "> Alternative Hypothesis: Someone who has awareness of basic income that would vote for basic income != Someone who has awareness of basic income that would not vote for basic income\n",
    "<br>\n",
    "> HA: μ1 ≠ μ2"
   ]
  },
  {
   "cell_type": "code",
   "execution_count": 72,
   "metadata": {},
   "outputs": [
    {
     "data": {
      "text/plain": [
       "awareness_of_basic_income            results\n",
       "I have heard just a little about it  1          1334\n",
       "                                     0           685\n",
       "I have never heard of it             1           667\n",
       "                                     0           346\n",
       "I know something about it            1          2270\n",
       "                                     0           883\n",
       "I understand it fully                1          1802\n",
       "                                     0           484\n",
       "Name: results, dtype: int64"
      ]
     },
     "execution_count": 72,
     "metadata": {},
     "output_type": "execute_result"
    }
   ],
   "source": [
    "basic_income.groupby('awareness_of_basic_income')['results'].value_counts()"
   ]
  },
  {
   "cell_type": "code",
   "execution_count": 73,
   "metadata": {},
   "outputs": [],
   "source": [
    "table = [[1802, 484], [1334, 685], [667, 346], [2270, 883]]"
   ]
  },
  {
   "cell_type": "code",
   "execution_count": 74,
   "metadata": {},
   "outputs": [
    {
     "data": {
      "text/plain": [
       "(105.98410503031407,\n",
       " 8.025012014684619e-23,\n",
       " 3,\n",
       " array([[1638.87120765,  647.12879235],\n",
       "        [1447.4544918 ,  571.5455082 ],\n",
       "        [ 726.23645378,  286.76354622],\n",
       "        [2260.43784677,  892.56215323]]))"
      ]
     },
     "execution_count": 74,
     "metadata": {},
     "output_type": "execute_result"
    }
   ],
   "source": [
    "chi2_contingency(table)"
   ]
  },
  {
   "cell_type": "markdown",
   "metadata": {},
   "source": [
    "**Outcome Hypothesis Test 6 Awareness of Basic Income and Going to Vote**\n",
    "\n",
    "> T-Test: Statistically significant with a pvalue=8.03"
   ]
  },
  {
   "cell_type": "markdown",
   "metadata": {},
   "source": [
    "### Hypothesis Test 7 Effect On Work Choices and Going to Vote"
   ]
  },
  {
   "cell_type": "markdown",
   "metadata": {},
   "source": [
    "> Null Hypothesis: Basic income effect on work choices of someone that would vote for basic income == basic income effect on work choices of someone  that would not vote for basic income\n",
    "<br>\n",
    "> H0: = μ1 μ2\n",
    "<br>\n",
    "<br>\n",
    "> Alternative Hypothesis: Basic income effect on work choices of someone that would vote for basic income != Basic income effect on work choices of someone that would not vote for basic income\n",
    "<br>\n",
    "> HA: μ1 ≠ μ2"
   ]
  },
  {
   "cell_type": "code",
   "execution_count": 75,
   "metadata": {},
   "outputs": [
    {
     "data": {
      "text/plain": [
       "effect_on_work_choices                           results\n",
       "A basic income would not affect my work choices  1          2258\n",
       "                                                 0           899\n",
       "None of the above                                1           335\n",
       "                                                 0           251\n",
       "‰Û_ do more volunteering work                    1           484\n",
       "                                                 0            94\n",
       "‰Û_ gain additional skills                       1           780\n",
       "                                                 0           135\n",
       "‰Û_ look for a different job                     1           404\n",
       "                                                 0           175\n",
       "‰Û_ spend more time with my family               1          1021\n",
       "                                                 0           272\n",
       "‰Û_ stop working                                 0           218\n",
       "                                                 1           125\n",
       "‰Û_ work as a freelancer                         1           344\n",
       "                                                 0            94\n",
       "‰Û_ work less                                    1           322\n",
       "                                                 0           260\n",
       "Name: results, dtype: int64"
      ]
     },
     "execution_count": 75,
     "metadata": {},
     "output_type": "execute_result"
    }
   ],
   "source": [
    "basic_income.groupby('effect_on_work_choices')['results'].value_counts()"
   ]
  },
  {
   "cell_type": "code",
   "execution_count": 76,
   "metadata": {},
   "outputs": [],
   "source": [
    "table = [[780, 135], [404, 175], [344, 94], [1021, 272], [2258, 899], [335, 251], [125, 218], [484, 94], [322, 260]]"
   ]
  },
  {
   "cell_type": "code",
   "execution_count": 77,
   "metadata": {
    "scrolled": true
   },
   "outputs": [
    {
     "data": {
      "text/plain": [
       "(516.7581328046449,\n",
       " 1.7826667129490584e-106,\n",
       " 8,\n",
       " array([[ 655.97863298,  259.02136702],\n",
       "        [ 415.09467595,  163.90532405],\n",
       "        [ 314.00944399,  123.99055601],\n",
       "        [ 926.97308464,  366.02691536],\n",
       "        [2263.30551293,  893.69448707],\n",
       "        [ 420.11309172,  165.88690828],\n",
       "        [ 245.9023728 ,   97.0976272 ],\n",
       "        [ 414.37775941,  163.62224059],\n",
       "        [ 417.24542557,  164.75457443]]))"
      ]
     },
     "execution_count": 77,
     "metadata": {},
     "output_type": "execute_result"
    }
   ],
   "source": [
    "chi2_contingency(table)"
   ]
  },
  {
   "cell_type": "markdown",
   "metadata": {},
   "source": [
    "**Outcome Hypothesis Test 7 Effect o Work Choices and Going to Vote**\n",
    "\n",
    "> T-Test: Statistically significant with a pvalue=1.78"
   ]
  },
  {
   "attachments": {},
   "cell_type": "markdown",
   "metadata": {},
   "source": [
    "![Table%20A.png](https://raw.githubusercontent.com/andrewwongls/dsc-3-final-project-online-ds-sp-000/master/Table%20A.png)"
   ]
  },
  {
   "cell_type": "markdown",
   "metadata": {},
   "source": [
    "## FEATURE ENGINEERING"
   ]
  },
  {
   "cell_type": "markdown",
   "metadata": {},
   "source": [
    "As data scientist, a majority part of their effort in getting through data science workflow is data scrubbing (cleaning). After data scrubbing, it is important to run data exploration to get a feel of the dataset (if you are not a domain expert in that particular field). In that real world case, the importance of feature engineering is to use domain specific knowledge and human insight to ensure that the data contains relevant indicators for the prediction task. Data is like the raw material (flour for baking a cake) of machine learning which means it has to be molded into features — predictor variables — to be useful for training a model. Without relevant features, we cannot train an accurate model, no matter how complex the machine learning algorithm. The process of extracting features from a raw dataset is called feature engineering.\n",
    "\n",
    "In my opinion (it can be wrong!), the previous Hypothesis Testing exercise require limited feature engineering as compared to when we start to run machine learning model. Feature engineering is the process of transforming raw data into features that better represent the underlying problem to the predictive models, resulting in improved model accuracy on unseen data. Feature engineering turn this Dalia survey dataset into things the algorithm can understand."
   ]
  },
  {
   "cell_type": "markdown",
   "metadata": {},
   "source": [
    "### FEATURE ENGINEERING 1: ADJUSTING GOING TO VOTE"
   ]
  },
  {
   "cell_type": "code",
   "execution_count": 78,
   "metadata": {},
   "outputs": [],
   "source": [
    "# Adjusting going to vote\n",
    "def vote_coding(row):\n",
    "    if row == 'I would vote for it' : return('for')\n",
    "    elif row == 'I would probably vote for it': return('for')\n",
    "    elif row == 'I would vote against it': return('against')\n",
    "    elif row == 'I would probably vote against it': return('against')\n",
    "    elif row == 'I would not vote': return('no_action')\n",
    "\n",
    "# applying function\n",
    "basic_income['vote'] = basic_income['going_to_vote'].apply(vote_coding)"
   ]
  },
  {
   "cell_type": "code",
   "execution_count": 79,
   "metadata": {},
   "outputs": [],
   "source": [
    "# dropping records who are not \"for\" or \"against\"\n",
    "basic_income = basic_income.query(\"vote != 'no_action'\")"
   ]
  },
  {
   "cell_type": "code",
   "execution_count": 80,
   "metadata": {},
   "outputs": [
    {
     "data": {
      "text/plain": [
       "for        0.716917\n",
       "against    0.283083\n",
       "Name: vote, dtype: float64"
      ]
     },
     "execution_count": 80,
     "metadata": {},
     "output_type": "execute_result"
    }
   ],
   "source": [
    "basic_income.vote.value_counts(normalize=True)"
   ]
  },
  {
   "cell_type": "markdown",
   "metadata": {},
   "source": [
    "### FEATURE ENGINEERING 2: ADJUSTING AWARENESS OF BASIC INCOME RESPONSES"
   ]
  },
  {
   "cell_type": "code",
   "execution_count": 81,
   "metadata": {},
   "outputs": [],
   "source": [
    "def awareness_coding(row):\n",
    "    if row == 'I understand it fully': return('fully')\n",
    "    elif row == 'I know something about it': return('something')\n",
    "    elif row == 'I have heard just a little about it': return('little')\n",
    "    elif row == 'I have never heard of it': return('nothing')\n",
    "\n",
    "basic_income['awareness_of_basic_income'] = basic_income['awareness_of_basic_income'].apply(awareness_coding)"
   ]
  },
  {
   "cell_type": "markdown",
   "metadata": {},
   "source": [
    "### FEATURE ENGINEERING 3: ADJUSTING EFFECT ON WORK CHOICES RESPONSES"
   ]
  },
  {
   "cell_type": "code",
   "execution_count": 82,
   "metadata": {},
   "outputs": [],
   "source": [
    "# adjusting for a reduce working\n",
    "\n",
    "def effect_coding(row):\n",
    "    if row == '‰Û_ stop working': return('stop_working')\n",
    "    elif row == '‰Û_ work less': return('work_less')\n",
    "    elif row == '‰Û_ do more volunteering work': return('volunteering_work')\n",
    "    elif row == '‰Û_ spend more time with my family': return('more_family_time')\n",
    "    elif row == '‰Û_ look for a different job': return('different_job')\n",
    "    elif row == '‰Û_ work as a freelancer': return('freelancer')\n",
    "    elif row == '‰Û_ gain additional skills': return('additional_skills')\n",
    "    elif row == 'A basic income would not affect my work choices': return('no_effect')\n",
    "    else: return('none_of_the_above')\n",
    "    \n",
    "basic_income['effect_on_work_choices'] = basic_income['effect_on_work_choices'].apply(effect_coding).astype(str)"
   ]
  },
  {
   "cell_type": "markdown",
   "metadata": {},
   "source": [
    "### FEATURE ENGINEERING 4: ADJUSTING AGE GROUP"
   ]
  },
  {
   "cell_type": "code",
   "execution_count": 83,
   "metadata": {},
   "outputs": [
    {
     "data": {
      "text/plain": [
       "count    8471.000000\n",
       "mean       38.111439\n",
       "std        12.139920\n",
       "min        14.000000\n",
       "20%        26.000000\n",
       "40%        35.000000\n",
       "50%        40.000000\n",
       "60%        42.000000\n",
       "80%        49.000000\n",
       "max        65.000000\n",
       "Name: age, dtype: float64"
      ]
     },
     "execution_count": 83,
     "metadata": {},
     "output_type": "execute_result"
    }
   ],
   "source": [
    "basic_income.age.describe(percentiles=[.2, .4, .6, .8])"
   ]
  },
  {
   "cell_type": "code",
   "execution_count": 84,
   "metadata": {},
   "outputs": [],
   "source": [
    "# adjusting the age group into 10-year section\n",
    "def age_groups(row):\n",
    "    if row <= 25: return('14_25')\n",
    "    elif row <= 35: return('26_35')\n",
    "    elif row <= 42: return('36_45')\n",
    "    elif row <= 49: return('46_55')\n",
    "    else: return('above_55')\n",
    "    \n",
    "basic_income['age_group'] = basic_income['age'].apply(age_groups)\n",
    "basic_income.drop(['age'], axis=1, inplace=True)"
   ]
  },
  {
   "cell_type": "code",
   "execution_count": 85,
   "metadata": {},
   "outputs": [
    {
     "data": {
      "image/png": "[encoded data removed]",
      "text/plain": [
       "<Figure size 720x432 with 1 Axes>"
      ]
     },
     "metadata": {},
     "output_type": "display_data"
    }
   ],
   "source": [
    "basic_income['age_group'].value_counts(normalize=True).plot(kind='bar', figsize=(10,6));"
   ]
  },
  {
   "cell_type": "markdown",
   "metadata": {},
   "source": [
    "### FEATURE ENGINEERING 5: ADJUSTING ARGUMENT IN SUPPORT AND NOT SUPPORT OF BASIC INCOME"
   ]
  },
  {
   "cell_type": "code",
   "execution_count": 86,
   "metadata": {},
   "outputs": [
    {
     "data": {
      "image/png": "[encoded data removed]",
      "text/plain": [
       "<Figure size 720x576 with 1 Axes>"
      ]
     },
     "metadata": {},
     "output_type": "display_data"
    }
   ],
   "source": [
    "arg_for = ['It reduces anxiety about financing basic needs',\n",
    "           'It creates more equality of opportunity',\n",
    "           'It encourages financial independence and self-responsibility',\n",
    "           'It increases solidarity, because it is funded by everyone',\n",
    "           'It reduces bureaucracy and administrative expenses',\n",
    "           'It increases appreciation for household work and volunteering',\n",
    "           'None of the above']\n",
    "\n",
    "# counting all arguments\n",
    "counter = [0,0,0,0,0,0,0]\n",
    "\n",
    "for row in basic_income.iterrows():\n",
    "    for i in range(0, len(arg_for)):\n",
    "        if arg_for[i] in row[1]['argument_for'].split('|'):\n",
    "            counter[i] = counter[i] + 1\n",
    "\n",
    "# creating a new dictionary \n",
    "dict_keys = ['less anxiety', 'more equality', 'financial independance', \n",
    "             'more solidarity', 'less bureaucracy', 'appreciates volunteering', 'none']\n",
    "\n",
    "arg_dict = {}\n",
    "\n",
    "for i in range(0, len(arg_for)):\n",
    "    arg_dict[dict_keys[i]] = counter[i]\n",
    "\n",
    "# sub-df for counted arguments\n",
    "sub_basic_income = pd.DataFrame(list(arg_dict.items()), columns=['Arguments in support of basic income', 'count'])\n",
    "\n",
    "# plotting\n",
    "sub_basic_income.sort_values(by=['count'], ascending=True).plot(kind='barh', x='Arguments in support of basic income', y='count',  \n",
    "                                                      figsize=(10,8), legend=False, color='g',\n",
    "                                                      title='Arguments in Support of Basic Income')\n",
    "plt.xlabel('Count');"
   ]
  },
  {
   "cell_type": "code",
   "execution_count": 87,
   "metadata": {},
   "outputs": [],
   "source": [
    "basic_income['less_anxiety'] = basic_income['argument_for'].str.contains('anxiety')\n",
    "basic_income['more_equality'] = basic_income['argument_for'].str.contains('equality')"
   ]
  },
  {
   "cell_type": "code",
   "execution_count": 88,
   "metadata": {},
   "outputs": [
    {
     "data": {
      "image/png": "[encoded data removed]",
      "text/plain": [
       "<Figure size 720x432 with 1 Axes>"
      ]
     },
     "metadata": {},
     "output_type": "display_data"
    }
   ],
   "source": [
    "argument_against = ['It is impossible to finance', 'It might encourage people to stop working',\n",
    "               'Foreigners might come to my country and take advantage of the benefit',\n",
    "               'It is against the principle of linking merit and reward', \n",
    "               'Only the people who need it most should get something from the state',\n",
    "               'It increases dependence on the state', 'None of the above']\n",
    "\n",
    "# counting all arguments\n",
    "counter = [0,0,0,0,0,0,0]\n",
    "\n",
    "for row in basic_income.iterrows():\n",
    "    for i in range(0, len(argument_against)):\n",
    "        if argument_against[i] in row[1]['argument_against'].split('|'):\n",
    "            counter[i] = counter[i] + 1\n",
    "\n",
    "# creating a new dictionary \n",
    "dict_keys = ['impossible to finance', 'people stop working', 'foreigners take advantage', \n",
    "             'against meritocracy', 'only for people in need', 'more dependence on state', 'none']\n",
    "\n",
    "arg_dict = {}\n",
    "\n",
    "for i in range(0, len(argument_against)):\n",
    "    arg_dict[dict_keys[i]] = counter[i]\n",
    "\n",
    "# sub-df for counted arguments\n",
    "sub_basic_income = pd.DataFrame(list(arg_dict.items()), columns=['Arguments not supporting basic income', 'count'])\n",
    "\n",
    "# plotting\n",
    "sub_basic_income.sort_values(by=['count'], ascending=True).plot(kind='barh', x='Arguments not supporting basic income', y='count',  \n",
    "                                                      figsize=(10,6), legend=False, color='r',\n",
    "                                                      title='Arguments not supporting basic income')\n",
    "plt.xlabel('Count');"
   ]
  },
  {
   "cell_type": "code",
   "execution_count": 89,
   "metadata": {},
   "outputs": [],
   "source": [
    "basic_income['in_need'] = basic_income['argument_against'].str.contains('need')\n",
    "basic_income['stop_working'] = basic_income['argument_against'].str.contains('stop working')\n",
    "basic_income['too_costly'] = basic_income['argument_against'].str.contains('impossible')"
   ]
  },
  {
   "cell_type": "code",
   "execution_count": 90,
   "metadata": {},
   "outputs": [],
   "source": [
    "basic_income.drop(['argument_for', 'argument_against'], axis=1, inplace=True)"
   ]
  },
  {
   "cell_type": "code",
   "execution_count": 91,
   "metadata": {},
   "outputs": [
    {
     "data": {
      "text/html": [
       "<div>\n",
       "<style scoped>\n",
       "    .dataframe tbody tr th:only-of-type {\n",
       "        vertical-align: middle;\n",
       "    }\n",
       "\n",
       "    .dataframe tbody tr th {\n",
       "        vertical-align: top;\n",
       "    }\n",
       "\n",
       "    .dataframe thead th {\n",
       "        text-align: right;\n",
       "    }\n",
       "</style>\n",
       "<table border=\"1\" class=\"dataframe\">\n",
       "  <thead>\n",
       "    <tr style=\"text-align: right;\">\n",
       "      <th></th>\n",
       "      <th>country_code</th>\n",
       "      <th>gender</th>\n",
       "      <th>rural_or_urban</th>\n",
       "      <th>education_level</th>\n",
       "      <th>full_time_job</th>\n",
       "      <th>has_children</th>\n",
       "      <th>awareness_of_basic_income</th>\n",
       "      <th>going_to_vote</th>\n",
       "      <th>effect_on_work_choices</th>\n",
       "      <th>age_group</th>\n",
       "      <th>results</th>\n",
       "      <th>vote</th>\n",
       "      <th>less_anxiety</th>\n",
       "      <th>more_equality</th>\n",
       "      <th>in_need</th>\n",
       "      <th>stop_working</th>\n",
       "      <th>too_costly</th>\n",
       "    </tr>\n",
       "  </thead>\n",
       "  <tbody>\n",
       "    <tr>\n",
       "      <th>1</th>\n",
       "      <td>AT</td>\n",
       "      <td>male</td>\n",
       "      <td>urban</td>\n",
       "      <td>high</td>\n",
       "      <td>yes</td>\n",
       "      <td>yes</td>\n",
       "      <td>fully</td>\n",
       "      <td>I would probably vote for it</td>\n",
       "      <td>no_effect</td>\n",
       "      <td>above_55</td>\n",
       "      <td>1</td>\n",
       "      <td>for</td>\n",
       "      <td>True</td>\n",
       "      <td>False</td>\n",
       "      <td>False</td>\n",
       "      <td>True</td>\n",
       "      <td>False</td>\n",
       "    </tr>\n",
       "    <tr>\n",
       "      <th>3</th>\n",
       "      <td>AT</td>\n",
       "      <td>male</td>\n",
       "      <td>rural</td>\n",
       "      <td>high</td>\n",
       "      <td>yes</td>\n",
       "      <td>yes</td>\n",
       "      <td>little</td>\n",
       "      <td>I would probably vote for it</td>\n",
       "      <td>work_less</td>\n",
       "      <td>46_55</td>\n",
       "      <td>1</td>\n",
       "      <td>for</td>\n",
       "      <td>True</td>\n",
       "      <td>False</td>\n",
       "      <td>False</td>\n",
       "      <td>False</td>\n",
       "      <td>False</td>\n",
       "    </tr>\n",
       "    <tr>\n",
       "      <th>4</th>\n",
       "      <td>AT</td>\n",
       "      <td>female</td>\n",
       "      <td>urban</td>\n",
       "      <td>high</td>\n",
       "      <td>yes</td>\n",
       "      <td>yes</td>\n",
       "      <td>little</td>\n",
       "      <td>I would probably vote for it</td>\n",
       "      <td>none_of_the_above</td>\n",
       "      <td>36_45</td>\n",
       "      <td>1</td>\n",
       "      <td>for</td>\n",
       "      <td>True</td>\n",
       "      <td>False</td>\n",
       "      <td>False</td>\n",
       "      <td>True</td>\n",
       "      <td>True</td>\n",
       "    </tr>\n",
       "    <tr>\n",
       "      <th>5</th>\n",
       "      <td>AT</td>\n",
       "      <td>female</td>\n",
       "      <td>rural</td>\n",
       "      <td>high</td>\n",
       "      <td>yes</td>\n",
       "      <td>no</td>\n",
       "      <td>fully</td>\n",
       "      <td>I would vote against it</td>\n",
       "      <td>no_effect</td>\n",
       "      <td>26_35</td>\n",
       "      <td>0</td>\n",
       "      <td>against</td>\n",
       "      <td>True</td>\n",
       "      <td>False</td>\n",
       "      <td>False</td>\n",
       "      <td>True</td>\n",
       "      <td>True</td>\n",
       "    </tr>\n",
       "    <tr>\n",
       "      <th>6</th>\n",
       "      <td>AT</td>\n",
       "      <td>female</td>\n",
       "      <td>urban</td>\n",
       "      <td>medium</td>\n",
       "      <td>no</td>\n",
       "      <td>no</td>\n",
       "      <td>something</td>\n",
       "      <td>I would probably vote for it</td>\n",
       "      <td>freelancer</td>\n",
       "      <td>26_35</td>\n",
       "      <td>1</td>\n",
       "      <td>for</td>\n",
       "      <td>True</td>\n",
       "      <td>False</td>\n",
       "      <td>False</td>\n",
       "      <td>True</td>\n",
       "      <td>False</td>\n",
       "    </tr>\n",
       "    <tr>\n",
       "      <th>7</th>\n",
       "      <td>AT</td>\n",
       "      <td>male</td>\n",
       "      <td>urban</td>\n",
       "      <td>medium</td>\n",
       "      <td>yes</td>\n",
       "      <td>no</td>\n",
       "      <td>something</td>\n",
       "      <td>I would probably vote for it</td>\n",
       "      <td>no_effect</td>\n",
       "      <td>46_55</td>\n",
       "      <td>1</td>\n",
       "      <td>for</td>\n",
       "      <td>True</td>\n",
       "      <td>False</td>\n",
       "      <td>True</td>\n",
       "      <td>True</td>\n",
       "      <td>True</td>\n",
       "    </tr>\n",
       "    <tr>\n",
       "      <th>8</th>\n",
       "      <td>AT</td>\n",
       "      <td>female</td>\n",
       "      <td>urban</td>\n",
       "      <td>medium</td>\n",
       "      <td>yes</td>\n",
       "      <td>no</td>\n",
       "      <td>little</td>\n",
       "      <td>I would probably vote for it</td>\n",
       "      <td>none_of_the_above</td>\n",
       "      <td>26_35</td>\n",
       "      <td>1</td>\n",
       "      <td>for</td>\n",
       "      <td>True</td>\n",
       "      <td>True</td>\n",
       "      <td>False</td>\n",
       "      <td>False</td>\n",
       "      <td>True</td>\n",
       "    </tr>\n",
       "    <tr>\n",
       "      <th>9</th>\n",
       "      <td>AT</td>\n",
       "      <td>female</td>\n",
       "      <td>urban</td>\n",
       "      <td>no</td>\n",
       "      <td>no</td>\n",
       "      <td>yes</td>\n",
       "      <td>fully</td>\n",
       "      <td>I would vote for it</td>\n",
       "      <td>volunteering_work</td>\n",
       "      <td>14_25</td>\n",
       "      <td>1</td>\n",
       "      <td>for</td>\n",
       "      <td>False</td>\n",
       "      <td>False</td>\n",
       "      <td>False</td>\n",
       "      <td>False</td>\n",
       "      <td>False</td>\n",
       "    </tr>\n",
       "    <tr>\n",
       "      <th>10</th>\n",
       "      <td>AT</td>\n",
       "      <td>male</td>\n",
       "      <td>urban</td>\n",
       "      <td>high</td>\n",
       "      <td>yes</td>\n",
       "      <td>no</td>\n",
       "      <td>something</td>\n",
       "      <td>I would probably vote for it</td>\n",
       "      <td>no_effect</td>\n",
       "      <td>46_55</td>\n",
       "      <td>1</td>\n",
       "      <td>for</td>\n",
       "      <td>True</td>\n",
       "      <td>False</td>\n",
       "      <td>False</td>\n",
       "      <td>True</td>\n",
       "      <td>False</td>\n",
       "    </tr>\n",
       "    <tr>\n",
       "      <th>11</th>\n",
       "      <td>AT</td>\n",
       "      <td>male</td>\n",
       "      <td>urban</td>\n",
       "      <td>medium</td>\n",
       "      <td>no</td>\n",
       "      <td>yes</td>\n",
       "      <td>something</td>\n",
       "      <td>I would probably vote for it</td>\n",
       "      <td>stop_working</td>\n",
       "      <td>above_55</td>\n",
       "      <td>1</td>\n",
       "      <td>for</td>\n",
       "      <td>False</td>\n",
       "      <td>False</td>\n",
       "      <td>True</td>\n",
       "      <td>True</td>\n",
       "      <td>False</td>\n",
       "    </tr>\n",
       "  </tbody>\n",
       "</table>\n",
       "</div>"
      ],
      "text/plain": [
       "   country_code  gender rural_or_urban education_level full_time_job  \\\n",
       "1            AT    male          urban            high           yes   \n",
       "3            AT    male          rural            high           yes   \n",
       "4            AT  female          urban            high           yes   \n",
       "5            AT  female          rural            high           yes   \n",
       "6            AT  female          urban          medium            no   \n",
       "7            AT    male          urban          medium           yes   \n",
       "8            AT  female          urban          medium           yes   \n",
       "9            AT  female          urban              no            no   \n",
       "10           AT    male          urban            high           yes   \n",
       "11           AT    male          urban          medium            no   \n",
       "\n",
       "   has_children awareness_of_basic_income                 going_to_vote  \\\n",
       "1           yes                     fully  I would probably vote for it   \n",
       "3           yes                    little  I would probably vote for it   \n",
       "4           yes                    little  I would probably vote for it   \n",
       "5            no                     fully       I would vote against it   \n",
       "6            no                 something  I would probably vote for it   \n",
       "7            no                 something  I would probably vote for it   \n",
       "8            no                    little  I would probably vote for it   \n",
       "9           yes                     fully           I would vote for it   \n",
       "10           no                 something  I would probably vote for it   \n",
       "11          yes                 something  I would probably vote for it   \n",
       "\n",
       "   effect_on_work_choices age_group  results     vote  less_anxiety  \\\n",
       "1               no_effect  above_55        1      for          True   \n",
       "3               work_less     46_55        1      for          True   \n",
       "4       none_of_the_above     36_45        1      for          True   \n",
       "5               no_effect     26_35        0  against          True   \n",
       "6              freelancer     26_35        1      for          True   \n",
       "7               no_effect     46_55        1      for          True   \n",
       "8       none_of_the_above     26_35        1      for          True   \n",
       "9       volunteering_work     14_25        1      for         False   \n",
       "10              no_effect     46_55        1      for          True   \n",
       "11           stop_working  above_55        1      for         False   \n",
       "\n",
       "    more_equality  in_need  stop_working  too_costly  \n",
       "1           False    False          True       False  \n",
       "3           False    False         False       False  \n",
       "4           False    False          True        True  \n",
       "5           False    False          True        True  \n",
       "6           False    False          True       False  \n",
       "7           False     True          True        True  \n",
       "8            True    False         False        True  \n",
       "9           False    False         False       False  \n",
       "10          False    False          True       False  \n",
       "11          False     True          True       False  "
      ]
     },
     "execution_count": 91,
     "metadata": {},
     "output_type": "execute_result"
    }
   ],
   "source": [
    "basic_income.head(10)"
   ]
  },
  {
   "cell_type": "markdown",
   "metadata": {},
   "source": [
    "# PART 4B  MAKE PREDICTION BASED ON THE PREDICTIVE MACHINE LEARNING MODELS"
   ]
  },
  {
   "cell_type": "markdown",
   "metadata": {},
   "source": [
    "### SCRUBBING DATA FURTHER FOR MACHINE LEARNING MODELLING"
   ]
  },
  {
   "cell_type": "markdown",
   "metadata": {},
   "source": [
    "There are different types, and not all data types can be consumed by machine learning. The following are some of the examples:\n",
    "1. Binary — either/or, and it is discrete.\n",
    "2. Count — the number of occurrences, and it is discrete.\n",
    "3. Nominal — data grouping without order, and it is discrete.\n",
    "4. Ordinal — data grouping with order, and it is discrete.\n",
    "5. Time — time series component, and it is continuous.\n",
    "6. Interval — positive and/or negative numbers and permanent component, and it is continuous.\n",
    "\n",
    "The more data we feed into our machine learning models, the better the models will perform. Of course, I am stating the obvious, the data has to be cleaned. Otherwise, we will faced Garbage In, Garbage Out (GIGO) situation. \n",
    "Here we are concerned with encoding nominal (#3) and ordinal data (#4). A column with nominal data has values that cannot be ordered in any meaningful way. Nominal data is most often one-hot (aka dummy) encoded, but there are many options that might perform better for machine learning. And, some of the options are describe below:\n",
    "1. Ordinal — convert string labels to integer values 1 through k. Ordinal.\n",
    "2. Binary — convert each integer to binary digits. Each binary digit gets one column. Some info loss but fewer dimensions. Ordinal.\n",
    "3. BaseN — Ordinal, Binary, or higher encoding. Nominal, ordinal. Doesn’t add much functionality. Probably avoid.\n",
    "4. Hashing — Like OneHot but fewer dimensions, some info loss due to collisions. Nominal, ordinal.\n",
    "5. OneHot — one column for each value to compare vs. all other values. Nominal, ordinal.\n",
    "\n",
    "I will use pandas one-hot encoding for this purpose. The one hot encoding is a technique that convert categorical values into a 1-dimensional numerical vector. The resulting vector will have only one element equal to 1 and the rest will be 0. The 1 is called Hot and the 0's are Cold."
   ]
  },
  {
   "cell_type": "code",
   "execution_count": 92,
   "metadata": {},
   "outputs": [],
   "source": [
    "# defining the features \n",
    "features = basic_income.drop([\"going_to_vote\"], axis=1)\n",
    "\n",
    "# defining the target\n",
    "target = basic_income[[\"going_to_vote\"]]\n",
    "\n",
    "# create dummy variables\n",
    "features = pd.get_dummies(features)"
   ]
  },
  {
   "cell_type": "code",
   "execution_count": 93,
   "metadata": {},
   "outputs": [
    {
     "name": "stdout",
     "output_type": "stream",
     "text": [
      "(8471, 66)\n"
     ]
    },
    {
     "data": {
      "text/html": [
       "<div>\n",
       "<style scoped>\n",
       "    .dataframe tbody tr th:only-of-type {\n",
       "        vertical-align: middle;\n",
       "    }\n",
       "\n",
       "    .dataframe tbody tr th {\n",
       "        vertical-align: top;\n",
       "    }\n",
       "\n",
       "    .dataframe thead th {\n",
       "        text-align: right;\n",
       "    }\n",
       "</style>\n",
       "<table border=\"1\" class=\"dataframe\">\n",
       "  <thead>\n",
       "    <tr style=\"text-align: right;\">\n",
       "      <th></th>\n",
       "      <th>results</th>\n",
       "      <th>less_anxiety</th>\n",
       "      <th>more_equality</th>\n",
       "      <th>in_need</th>\n",
       "      <th>stop_working</th>\n",
       "      <th>too_costly</th>\n",
       "      <th>country_code_AT</th>\n",
       "      <th>country_code_BE</th>\n",
       "      <th>country_code_BG</th>\n",
       "      <th>country_code_CY</th>\n",
       "      <th>...</th>\n",
       "      <th>effect_on_work_choices_stop_working</th>\n",
       "      <th>effect_on_work_choices_volunteering_work</th>\n",
       "      <th>effect_on_work_choices_work_less</th>\n",
       "      <th>age_group_14_25</th>\n",
       "      <th>age_group_26_35</th>\n",
       "      <th>age_group_36_45</th>\n",
       "      <th>age_group_46_55</th>\n",
       "      <th>age_group_above_55</th>\n",
       "      <th>vote_against</th>\n",
       "      <th>vote_for</th>\n",
       "    </tr>\n",
       "  </thead>\n",
       "  <tbody>\n",
       "    <tr>\n",
       "      <th>9643</th>\n",
       "      <td>1</td>\n",
       "      <td>False</td>\n",
       "      <td>False</td>\n",
       "      <td>False</td>\n",
       "      <td>True</td>\n",
       "      <td>False</td>\n",
       "      <td>0</td>\n",
       "      <td>0</td>\n",
       "      <td>0</td>\n",
       "      <td>0</td>\n",
       "      <td>...</td>\n",
       "      <td>0</td>\n",
       "      <td>0</td>\n",
       "      <td>0</td>\n",
       "      <td>1</td>\n",
       "      <td>0</td>\n",
       "      <td>0</td>\n",
       "      <td>0</td>\n",
       "      <td>0</td>\n",
       "      <td>0</td>\n",
       "      <td>1</td>\n",
       "    </tr>\n",
       "    <tr>\n",
       "      <th>9644</th>\n",
       "      <td>1</td>\n",
       "      <td>False</td>\n",
       "      <td>False</td>\n",
       "      <td>False</td>\n",
       "      <td>False</td>\n",
       "      <td>True</td>\n",
       "      <td>0</td>\n",
       "      <td>0</td>\n",
       "      <td>0</td>\n",
       "      <td>0</td>\n",
       "      <td>...</td>\n",
       "      <td>0</td>\n",
       "      <td>0</td>\n",
       "      <td>0</td>\n",
       "      <td>0</td>\n",
       "      <td>0</td>\n",
       "      <td>1</td>\n",
       "      <td>0</td>\n",
       "      <td>0</td>\n",
       "      <td>0</td>\n",
       "      <td>1</td>\n",
       "    </tr>\n",
       "    <tr>\n",
       "      <th>9645</th>\n",
       "      <td>0</td>\n",
       "      <td>False</td>\n",
       "      <td>False</td>\n",
       "      <td>True</td>\n",
       "      <td>True</td>\n",
       "      <td>False</td>\n",
       "      <td>0</td>\n",
       "      <td>0</td>\n",
       "      <td>0</td>\n",
       "      <td>0</td>\n",
       "      <td>...</td>\n",
       "      <td>0</td>\n",
       "      <td>0</td>\n",
       "      <td>0</td>\n",
       "      <td>0</td>\n",
       "      <td>0</td>\n",
       "      <td>0</td>\n",
       "      <td>0</td>\n",
       "      <td>1</td>\n",
       "      <td>1</td>\n",
       "      <td>0</td>\n",
       "    </tr>\n",
       "    <tr>\n",
       "      <th>9647</th>\n",
       "      <td>1</td>\n",
       "      <td>True</td>\n",
       "      <td>True</td>\n",
       "      <td>False</td>\n",
       "      <td>False</td>\n",
       "      <td>False</td>\n",
       "      <td>0</td>\n",
       "      <td>0</td>\n",
       "      <td>0</td>\n",
       "      <td>0</td>\n",
       "      <td>...</td>\n",
       "      <td>0</td>\n",
       "      <td>0</td>\n",
       "      <td>0</td>\n",
       "      <td>0</td>\n",
       "      <td>0</td>\n",
       "      <td>0</td>\n",
       "      <td>1</td>\n",
       "      <td>0</td>\n",
       "      <td>0</td>\n",
       "      <td>1</td>\n",
       "    </tr>\n",
       "    <tr>\n",
       "      <th>9648</th>\n",
       "      <td>0</td>\n",
       "      <td>False</td>\n",
       "      <td>False</td>\n",
       "      <td>False</td>\n",
       "      <td>True</td>\n",
       "      <td>False</td>\n",
       "      <td>0</td>\n",
       "      <td>0</td>\n",
       "      <td>0</td>\n",
       "      <td>0</td>\n",
       "      <td>...</td>\n",
       "      <td>0</td>\n",
       "      <td>0</td>\n",
       "      <td>0</td>\n",
       "      <td>0</td>\n",
       "      <td>0</td>\n",
       "      <td>0</td>\n",
       "      <td>0</td>\n",
       "      <td>1</td>\n",
       "      <td>1</td>\n",
       "      <td>0</td>\n",
       "    </tr>\n",
       "  </tbody>\n",
       "</table>\n",
       "<p>5 rows × 66 columns</p>\n",
       "</div>"
      ],
      "text/plain": [
       "      results  less_anxiety  more_equality  in_need  stop_working  too_costly  \\\n",
       "9643        1         False          False    False          True       False   \n",
       "9644        1         False          False    False         False        True   \n",
       "9645        0         False          False     True          True       False   \n",
       "9647        1          True           True    False         False       False   \n",
       "9648        0         False          False    False          True       False   \n",
       "\n",
       "      country_code_AT  country_code_BE  country_code_BG  country_code_CY  \\\n",
       "9643                0                0                0                0   \n",
       "9644                0                0                0                0   \n",
       "9645                0                0                0                0   \n",
       "9647                0                0                0                0   \n",
       "9648                0                0                0                0   \n",
       "\n",
       "        ...     effect_on_work_choices_stop_working  \\\n",
       "9643    ...                                       0   \n",
       "9644    ...                                       0   \n",
       "9645    ...                                       0   \n",
       "9647    ...                                       0   \n",
       "9648    ...                                       0   \n",
       "\n",
       "      effect_on_work_choices_volunteering_work  \\\n",
       "9643                                         0   \n",
       "9644                                         0   \n",
       "9645                                         0   \n",
       "9647                                         0   \n",
       "9648                                         0   \n",
       "\n",
       "      effect_on_work_choices_work_less  age_group_14_25  age_group_26_35  \\\n",
       "9643                                 0                1                0   \n",
       "9644                                 0                0                0   \n",
       "9645                                 0                0                0   \n",
       "9647                                 0                0                0   \n",
       "9648                                 0                0                0   \n",
       "\n",
       "      age_group_36_45  age_group_46_55  age_group_above_55  vote_against  \\\n",
       "9643                0                0                   0             0   \n",
       "9644                1                0                   0             0   \n",
       "9645                0                0                   1             1   \n",
       "9647                0                1                   0             0   \n",
       "9648                0                0                   1             1   \n",
       "\n",
       "      vote_for  \n",
       "9643         1  \n",
       "9644         1  \n",
       "9645         0  \n",
       "9647         1  \n",
       "9648         0  \n",
       "\n",
       "[5 rows x 66 columns]"
      ]
     },
     "execution_count": 93,
     "metadata": {},
     "output_type": "execute_result"
    }
   ],
   "source": [
    "# checking out the features\n",
    "print(features.shape)\n",
    "features.tail(5)"
   ]
  },
  {
   "cell_type": "code",
   "execution_count": 94,
   "metadata": {},
   "outputs": [],
   "source": [
    "# splitting the data into train and test set ready for machine learning modelling\n",
    "X_train, X_test, y_train, y_test = train_test_split(features, target, test_size=0.4)"
   ]
  },
  {
   "cell_type": "markdown",
   "metadata": {},
   "source": [
    "## MACHINE LEARNING - PREDICTIVE MODELS"
   ]
  },
  {
   "cell_type": "markdown",
   "metadata": {},
   "source": [
    "Let's quickly re-visit what we have discovered so far. Based on our earlier data exploration, we know the more a respondent understand the concept of basic income, the more likely he/she will vote for (in support) basic income. The opposite is true as well, the lesser a respondent understand the concept of basic income, the most likely he/ she will vote against (not support) basic income. This is just based on one factor - awareness of basic income. What if we want to use all the available we have in the Dalia dataset, and leverage on machine learning to help us uncover whether we can actually predicting other pyschographic factors (such as age, education level) in determining whether a respondent will either vote for (supporting) or vote against (not supporting) basic income. "
   ]
  },
  {
   "attachments": {},
   "cell_type": "markdown",
   "metadata": {},
   "source": [
    "![Going%20to%20Vote.PNG](https://raw.githubusercontent.com/andrewwongls/dsc-3-final-project-online-ds-sp-000/master/Going%20to%20Vote.PNG)"
   ]
  },
  {
   "cell_type": "markdown",
   "metadata": {},
   "source": [
    "In order to help answer the above questions, I will be utilizing the following predictive analytics models:\n",
    "\n",
    "1. Logistic Regression \n",
    "2. Random Forest\n",
    "3. XGBoost\n",
    "4. Support Vector Machine\n"
   ]
  },
  {
   "cell_type": "markdown",
   "metadata": {},
   "source": [
    "### LOGISTIC REGRESSION MODELLING"
   ]
  },
  {
   "cell_type": "markdown",
   "metadata": {},
   "source": [
    "Regression is a technique used to predict the value of a response (dependent) variables, from one or more predictor (independent) variables, where the variable are numeric.\n",
    "\n",
    "\n",
    "Linear and Logistic regression are the most basic form of regression which are commonly used. The essential difference between these two is that Logistic regression is used when the dependent variable is binary in nature. In contrast, Linear regression is used when the dependent variable is continuous and nature of the regression line is linear. Linear regression algorithms are used to predict/forecast values but logistic regression is used for classification tasks."
   ]
  },
  {
   "cell_type": "markdown",
   "metadata": {},
   "source": [
    "Diagram Logistics Regression: An Illustrated Logistric Regression (Diagram Credit: MachineLearningPlus.com)"
   ]
  },
  {
   "attachments": {},
   "cell_type": "markdown",
   "metadata": {},
   "source": [
    "![Logistic%20Regression.PNG](https://raw.githubusercontent.com/andrewwongls/dsc-3-final-project-online-ds-sp-000/master/Logistic%20Regression.PNG)"
   ]
  },
  {
   "cell_type": "code",
   "execution_count": 95,
   "metadata": {},
   "outputs": [
    {
     "name": "stdout",
     "output_type": "stream",
     "text": [
      "Logistic Regression\n",
      "+++++++++++++++++++++++++++++++++++++++++++++++++++++++\n",
      "Training Accuracy: 65.0%\n",
      "Test Accuracy:     64.6%\n"
     ]
    }
   ],
   "source": [
    "# starting the logistic regression\n",
    "logreg = LogisticRegression()\n",
    "\n",
    "# training\n",
    "logreg.fit(X_train, y_train)\n",
    "\n",
    "# predicting\n",
    "train_preds = logreg.predict(X_train)\n",
    "test_preds = logreg.predict(X_test)\n",
    "\n",
    "# evaluating\n",
    "train_accuracy_logreg = accuracy_score(y_train, train_preds)\n",
    "test_accuracy_logreg = accuracy_score(y_test, test_preds)\n",
    "report_logreg = classification_report(y_test, test_preds)\n",
    "\n",
    "print(\"Logistic Regression\")\n",
    "print(\"+++++++++++++++++++++++++++++++++++++++++++++++++++++++\")\n",
    "print(f\"Training Accuracy: {(train_accuracy_logreg * 100):.3}%\")\n",
    "print(f\"Test Accuracy:     {(test_accuracy_logreg * 100):.3}%\")\n"
   ]
  },
  {
   "cell_type": "markdown",
   "metadata": {},
   "source": [
    "### RANDOM FOREST MODELLING"
   ]
  },
  {
   "cell_type": "markdown",
   "metadata": {},
   "source": [
    "Random forest spun out of decision tree. It is better than decision tree.\n",
    "Take the analogy of having thousands of thinking machine make predictions for the traffic in the city of Melbourne between 4pm and 7pm. The thousands of thinking machine can make a combination of predictions, it is faster and use the wisdom of the crowd (in this case wisdom of the chips!).\n",
    "\n",
    "On to the similar analogy of thousands of thinking machine - each decision machine (tree) in the thousands of machine (forest) considers a random subset of features when forming questions and only has access to a random set of the training data points. This rule therefore increases 'a distributed opinion/view' in the forest leading to more robust overall predictions. Henceforth the name ‘random forest.’ When it comes time to make a prediction, the random forest takes an average of all the individual decision tree estimates. "
   ]
  },
  {
   "cell_type": "markdown",
   "metadata": {},
   "source": [
    "Diagram Random Forest: An Illustrated Random Forest (Diagram Credit: Towards Data Science Medium Blog)"
   ]
  },
  {
   "attachments": {},
   "cell_type": "markdown",
   "metadata": {},
   "source": [
    "![Random%20Forest.PNG](https://raw.githubusercontent.com/andrewwongls/dsc-3-final-project-online-ds-sp-000/master/Random%20Forest.PNG)"
   ]
  },
  {
   "cell_type": "code",
   "execution_count": 96,
   "metadata": {},
   "outputs": [],
   "source": [
    "# creating a baseline\n",
    "forest = RandomForestClassifier()"
   ]
  },
  {
   "cell_type": "code",
   "execution_count": 97,
   "metadata": {},
   "outputs": [
    {
     "name": "stdout",
     "output_type": "stream",
     "text": [
      "{'criterion': 'gini', 'max_depth': 8, 'max_features': 9, 'min_samples_split': 5, 'n_estimators': 120}\n"
     ]
    }
   ],
   "source": [
    "# creating Grid              \n",
    "param_grid = {'n_estimators': [80, 100, 120],\n",
    "              'criterion': ['gini', 'entropy'],\n",
    "              'max_features': [5, 7, 9],         \n",
    "              'max_depth': [5, 8, 10], \n",
    "              'min_samples_split': [3, 4, 5]}\n",
    "\n",
    "# starring the tune random forest\n",
    "forest_grid_search = GridSearchCV(forest, param_grid, cv=7, n_jobs=-1)\n",
    "\n",
    "# training the tuned random forest\n",
    "forest_grid_search.fit(X_train, y_train)\n",
    "\n",
    "# printing best estimator parameters found during the grid search\n",
    "print(forest_grid_search.best_params_)"
   ]
  },
  {
   "cell_type": "code",
   "execution_count": 98,
   "metadata": {},
   "outputs": [
    {
     "name": "stdout",
     "output_type": "stream",
     "text": [
      "Random Forest\n",
      "+++++++++++++++++++++++++++++++++++++++++++++++++++++++\n",
      "Training Accuracy: 77.41%\n",
      "Test Accuracy:     63.56%\n"
     ]
    }
   ],
   "source": [
    "\n",
    "# instantiating the tuned random forest with the best found parameters\n",
    "forest = RandomForestClassifier(n_estimators=120, criterion='gini', max_features=9, \n",
    "                                max_depth=10, min_samples_split=4, random_state=4)\n",
    "\n",
    "# training the random forest\n",
    "forest.fit(X_train, y_train)\n",
    "\n",
    "# predicting the random forest\n",
    "train_preds = forest.predict(X_train)\n",
    "test_preds = forest.predict(X_test)\n",
    "\n",
    "# evaluating \n",
    "train_accuracy_forest = accuracy_score(y_train, train_preds)\n",
    "test_accuracy_forest = accuracy_score(y_test, test_preds)\n",
    "report_forest = classification_report(y_test, test_preds)\n",
    "\n",
    "print(\"Random Forest\")\n",
    "print(\"+++++++++++++++++++++++++++++++++++++++++++++++++++++++\")\n",
    "print(f\"Training Accuracy: {(train_accuracy_forest * 100):.4}%\")\n",
    "print(f\"Test Accuracy:     {(test_accuracy_forest * 100):.4}%\")"
   ]
  },
  {
   "cell_type": "markdown",
   "metadata": {},
   "source": [
    "### EXTREME BOOSTING (XGBOOST) MODELLING"
   ]
  },
  {
   "cell_type": "markdown",
   "metadata": {},
   "source": [
    "The extreme boosting is an ensemble technique where new models are added to correct the errors made by existing models. One by one the new models are added sequentially until no further improvements can be made. \n",
    "\n",
    "The gradient boosting is an approach where new models are created that predict the residuals or errors of prior models and then added together to make the final prediction. It is called gradient boosting because it uses a gradient descent algorithm to minimize the loss when adding new models. This approach supports both regression and classification predictive modeling problems."
   ]
  },
  {
   "cell_type": "markdown",
   "metadata": {},
   "source": [
    "Diagram Extreme Boosting: Illustrated XGBoost (Diagram Credit: Kaggle)"
   ]
  },
  {
   "attachments": {},
   "cell_type": "markdown",
   "metadata": {},
   "source": [
    "![XGBoost.png](https://raw.githubusercontent.com/andrewwongls/dsc-3-final-project-online-ds-sp-000/master/XGBoost.png)"
   ]
  },
  {
   "cell_type": "code",
   "execution_count": 99,
   "metadata": {},
   "outputs": [],
   "source": [
    "# creating a baseline\n",
    "booster = xgb.XGBClassifier()"
   ]
  },
  {
   "cell_type": "code",
   "execution_count": 100,
   "metadata": {},
   "outputs": [
    {
     "name": "stdout",
     "output_type": "stream",
     "text": [
      "{'colsample_bytree': 1, 'gamma': 0.0, 'learning_rate': 0.1, 'max_depth': 3, 'n_estimators': 100}\n"
     ]
    }
   ],
   "source": [
    "# creating the grid\n",
    "param_grid = {'n_estimators': [100],\n",
    "              'learning_rate': [0.05, 0.1], \n",
    "              'max_depth': [3, 5, 10],\n",
    "              'colsample_bytree': [0.7, 1],\n",
    "              'gamma': [0.0, 0.1, 0.2]}\n",
    "\n",
    "# starting the tuned random forest\n",
    "booster_grid_search = GridSearchCV(booster, param_grid, scoring='accuracy', cv=3, n_jobs=-1)\n",
    "\n",
    "# training the tuned random forest\n",
    "booster_grid_search.fit(X_train, y_train)\n",
    "\n",
    "# print best estimator parameters found during the grid search\n",
    "print(booster_grid_search.best_params_)"
   ]
  },
  {
   "cell_type": "code",
   "execution_count": 101,
   "metadata": {},
   "outputs": [
    {
     "name": "stdout",
     "output_type": "stream",
     "text": [
      "XGBoost\n",
      "+++++++++++++++++++++++++++++++++++++++++++++++++++++++\n",
      "Training Accuracy: 73.18%\n",
      "Test Accuracy:     63.03%\n"
     ]
    }
   ],
   "source": [
    "# starting tuned xgboost\n",
    "booster = xgb.XGBClassifier(learning_rate=0.1, max_depth=5, n_estimators=100,\n",
    "                            colsample_bytree=0.7, gamma=0.1, random_state=4)\n",
    "\n",
    "# training\n",
    "booster.fit(X_train, y_train)\n",
    "\n",
    "# predicting\n",
    "train_preds = booster.predict(X_train)\n",
    "test_preds = booster.predict(X_test)\n",
    "\n",
    "# evaluating\n",
    "train_accuracy_booster = accuracy_score(y_train, train_preds)\n",
    "test_accuracy_booster = accuracy_score(y_test, test_preds)\n",
    "report_booster = classification_report(y_test, test_preds)\n",
    "\n",
    "print(\"XGBoost\")\n",
    "print(\"+++++++++++++++++++++++++++++++++++++++++++++++++++++++\")\n",
    "print(f\"Training Accuracy: {(train_accuracy_booster * 100):.4}%\")\n",
    "print(f\"Test Accuracy:     {(test_accuracy_booster * 100):.4}%\")\n",
    "\n"
   ]
  },
  {
   "cell_type": "markdown",
   "metadata": {},
   "source": [
    "### SUPPORT VECTOR MACHINE MODELLING"
   ]
  },
  {
   "cell_type": "markdown",
   "metadata": {},
   "source": [
    "Support vectors are data points that are closer to the hyperplane and influence the position and orientation of the hyperplane. Using these support vectors, we maximize the margin of the classifier. Deleting the support vectors will change the position of the hyperplane. These are the points that help us build our SVM."
   ]
  },
  {
   "cell_type": "markdown",
   "metadata": {},
   "source": [
    "Diagram Support Vector Machine: An Illustrated SVM (Diagram Credit: Towards Data Science Medium Blog)"
   ]
  },
  {
   "attachments": {},
   "cell_type": "markdown",
   "metadata": {},
   "source": [
    "![SVM.PNG](https://raw.githubusercontent.com/andrewwongls/dsc-3-final-project-online-ds-sp-000/master/SVM.PNG)"
   ]
  },
  {
   "cell_type": "code",
   "execution_count": 102,
   "metadata": {},
   "outputs": [
    {
     "name": "stdout",
     "output_type": "stream",
     "text": [
      "Support Vector Machine\n",
      "+++++++++++++++++++++++++++++++++++++++++++++++++++++++\n",
      "Training Accuracy: 61.94%\n",
      "Test Accuracy:     62.41%\n"
     ]
    }
   ],
   "source": [
    "# instantiating Support Vector Classification\n",
    "svm = svm.SVC(kernel='rbf', random_state=4)\n",
    "\n",
    "# training\n",
    "svm.fit(X_train, y_train)\n",
    "\n",
    "# predicting\n",
    "train_preds = svm.predict(X_train)\n",
    "test_preds = svm.predict(X_test)\n",
    "\n",
    "# evaluating\n",
    "train_accuracy_svm = accuracy_score(y_train, train_preds)\n",
    "test_accuracy_svm = accuracy_score(y_test, test_preds)\n",
    "report_svm = classification_report(y_test, test_preds)\n",
    "\n",
    "print(\"Support Vector Machine\")\n",
    "print(\"+++++++++++++++++++++++++++++++++++++++++++++++++++++++\")\n",
    "print(f\"Training Accuracy: {(train_accuracy_svm * 100):.4}%\")\n",
    "print(f\"Test Accuracy:     {(test_accuracy_svm * 100):.4}%\")\n",
    "\n"
   ]
  },
  {
   "cell_type": "markdown",
   "metadata": {},
   "source": [
    "### INTERPRETATION OF PERFORMANCE MEASURES: PRECISION, RECALL AND F1 SCORE"
   ]
  },
  {
   "cell_type": "markdown",
   "metadata": {},
   "source": [
    "I will be running SKLearn Metric to generation classification reporting. The following reporting will be generation, and I'd like provide some explanations of each reporting:\n",
    "\n",
    "**Precision Score**\n",
    ">Precision – Accuracy of positive predictions.\n",
    ">Precision = TP/(TP + FP)\n",
    "\n",
    "**Recall Score**\n",
    ">Recall (aka sensitivity or true positive rate): Fraction of positives That were correctly identified.\n",
    ">Recall = TP/(TP+FN)\n",
    "\n",
    "**F1 Score**\n",
    ">A helpful metric for comparing two classifiers. F1 Score takes into account precision and the recall. It is created by finding the the harmonic mean of precision and recall.\n",
    ">F1 = 2 x (precision x recall)/(precision + recall)\n",
    "\n",
    "**Support**\n",
    ">The support is the number of samples of the true response that lie in that class.\n",
    "\n",
    "\n",
    "**The Reported Averages** \n",
    ">Micro average (averaging the total true positives, false negatives and false positives)\n",
    "\n",
    ">Macro average (averaging the unweighted mean per label)\n",
    "\n",
    ">Weighted average (averaging the support-weighted mean per label)\n",
    "\n",
    ">Sample average (only for multilabel classification)."
   ]
  },
  {
   "cell_type": "code",
   "execution_count": 103,
   "metadata": {},
   "outputs": [
    {
     "name": "stdout",
     "output_type": "stream",
     "text": [
      "Classification Report Logistic Regression: \n",
      "                                   precision    recall  f1-score   support\n",
      "\n",
      "I would probably vote against it       0.66      0.81      0.73       562\n",
      "    I would probably vote for it       0.65      0.74      0.69      1307\n",
      "         I would vote against it       0.57      0.37      0.45       375\n",
      "             I would vote for it       0.65      0.55      0.59      1145\n",
      "\n",
      "                       micro avg       0.65      0.65      0.65      3389\n",
      "                       macro avg       0.63      0.62      0.62      3389\n",
      "                    weighted avg       0.64      0.65      0.64      3389\n",
      "\n",
      "++++++++++++++++++++++++++++++++++++++++++++++++++++++++++++++++++++++++++\n",
      "Classification Report Random Forest: \n",
      "                                   precision    recall  f1-score   support\n",
      "\n",
      "I would probably vote against it       0.66      0.90      0.76       562\n",
      "    I would probably vote for it       0.62      0.77      0.69      1307\n",
      "         I would vote against it       0.66      0.29      0.40       375\n",
      "             I would vote for it       0.64      0.46      0.54      1145\n",
      "\n",
      "                       micro avg       0.64      0.64      0.64      3389\n",
      "                       macro avg       0.64      0.61      0.60      3389\n",
      "                    weighted avg       0.64      0.64      0.62      3389\n",
      "\n",
      "++++++++++++++++++++++++++++++++++++++++++++++++++++++++++++++++++++++++++\n",
      "Classification Report XGBoost: \n",
      "                                   precision    recall  f1-score   support\n",
      "\n",
      "I would probably vote against it       0.66      0.81      0.73       562\n",
      "    I would probably vote for it       0.63      0.71      0.67      1307\n",
      "         I would vote against it       0.57      0.38      0.46       375\n",
      "             I would vote for it       0.62      0.53      0.57      1145\n",
      "\n",
      "                       micro avg       0.63      0.63      0.63      3389\n",
      "                       macro avg       0.62      0.61      0.61      3389\n",
      "                    weighted avg       0.63      0.63      0.62      3389\n",
      "\n",
      "++++++++++++++++++++++++++++++++++++++++++++++++++++++++++++++++++++++++++\n",
      "Classification Report SVM: \n",
      "                                   precision    recall  f1-score   support\n",
      "\n",
      "I would probably vote against it       0.63      0.95      0.75       562\n",
      "    I would probably vote for it       0.61      0.80      0.69      1307\n",
      "         I would vote against it       0.66      0.15      0.24       375\n",
      "             I would vote for it       0.65      0.42      0.51      1145\n",
      "\n",
      "                       micro avg       0.62      0.62      0.62      3389\n",
      "                       macro avg       0.64      0.58      0.55      3389\n",
      "                    weighted avg       0.63      0.62      0.59      3389\n",
      "\n"
     ]
    }
   ],
   "source": [
    "print('Classification Report Logistic Regression: \\n', report_logreg)\n",
    "print('++++++++++++++++++++++++++++++++++++++++++++++++++++++++++++++++++++++++++')\n",
    "print('Classification Report Random Forest: \\n', report_forest)\n",
    "print('++++++++++++++++++++++++++++++++++++++++++++++++++++++++++++++++++++++++++') \n",
    "print('Classification Report XGBoost: \\n', report_booster)\n",
    "print('++++++++++++++++++++++++++++++++++++++++++++++++++++++++++++++++++++++++++')\n",
    "print('Classification Report SVM: \\n', report_svm)"
   ]
  },
  {
   "cell_type": "markdown",
   "metadata": {},
   "source": [
    "### USING RANDOM FOREST TO UNDERSTAND INFLUENTIAL FACTORS IN PREDICTING WHETHER SOMEONE IS GOING TO VOTE "
   ]
  },
  {
   "cell_type": "code",
   "execution_count": 104,
   "metadata": {},
   "outputs": [
    {
     "data": {
      "image/png": "[encoded data removed]",
      "text/plain": [
       "<Figure size 720x360 with 1 Axes>"
      ]
     },
     "metadata": {},
     "output_type": "display_data"
    }
   ],
   "source": [
    "# plotting the influential factors - based on Random Forest\n",
    "influential_factors = pd.Series(forest.feature_importances_, index=features.columns)\n",
    "influential_factors.nlargest(30).sort_values().plot(kind='barh', color='darkgrey', figsize=(10,5))\n",
    "plt.xlabel('Relative Influential Factors with Random Forest');"
   ]
  },
  {
   "cell_type": "markdown",
   "metadata": {},
   "source": [
    "# PART 5 INTERPRET DATA"
   ]
  },
  {
   "cell_type": "markdown",
   "metadata": {},
   "source": [
    "The Data Science workflow that we have been going through up to now, consist of [1] Obtaining the data, [2] Scrubbing the data, [3] Exploring the data, and finally [4] Modelling the data through hypothesis testing, and predictive modelling (the main focus of this notebook). \n",
    "\n",
    "We have come to the point where we have sufficient confluence of data and insights from various sources, as listed below:\n",
    "1. Dalia Survey 2016 - with dataset.\n",
    "2. Updated Dalia Survey 2017 - without dataset.\n",
    "3. External dataset from Eurostat on risk of poverty, and unemployment.\n",
    "4. Significance of results based on hypothesis testing.\n",
    "5. Predictive modelling based on machine learning modelling (Logistics Regression, Random Forest, Support Vector Machine, and XGBoost)\n",
    "\n",
    "\n",
    "The tables below provide a one-page view of the confluence of data and insights that we have come through so far.\n",
    "<br>\n",
    "\n",
    "TABLE A attempts to answer this questions: **What key factors that have significant influence on basic income voting outcome?** \n",
    "\n",
    "It listed out 7 significance testing results. Put simply, all factors are significant (e.g. Gender someone that would vote for basic income !=  gender someone that would not vote for basic income), except for education level (i.e. Education level of someone that would vote for basic income =  Education level of someone that would not vote for basic income).\n",
    "\n",
    "\n",
    "TABLE B attempts to answer this question: **What is the possibility of predicting whether some will vote for or against basic income?**\n",
    "\n",
    "It listed 10 ranking of order on the sigficant factors that will determine whether some will vote for or against basic income through machine learning modelling. This is based on 2016 released Dalia Dataset.\n",
    "\n",
    "TABLE C attempts to answer this questions: **What is the future of basic income in the future of work?**\n",
    "\n",
    "listed 10 ranking of order on the sigficant factors that will determine whether some will vote for or against basic income through machine learning modelling. This is based on 2017 yet-to-released Dalia Dataset. The results were taken from Dalia's summarized results PowerPoint deck. "
   ]
  },
  {
   "attachments": {},
   "cell_type": "markdown",
   "metadata": {},
   "source": [
    "![Comparison.png](https://raw.githubusercontent.com/andrewwongls/dsc-3-final-project-online-ds-sp-000/master/Comparison.png)"
   ]
  },
  {
   "cell_type": "markdown",
   "metadata": {},
   "source": [
    "Let's delve into each of the tables.\n",
    "\n",
    "**TABLE A**\n",
    "\n",
    "Of the 7 factors being considered, only educational level stands out. Based on hypothesis testing, the education level of someone that would vote for basic income is similar to the education level of someone that would not vote for basic. <>\n",
    "\n",
    "Among all the factors that are significant, awareness of basic income - the concept, the advantages, disadvantages - have a very significant and strong on somenone either going to vote, voting for or voting against basic income. <>\n",
    "\n",
    "**TABLE B**\n",
    "\n",
    "Rank #1 and #2 factors are fairly obvious - those with strong opinion will likely to go to the ballot box today, if it is the voting day. \n",
    "\n",
    "Rank #3 factor matches with Table A (Hypothesis testing; whether some has awareness of basic income). This goes without saying, if someone in the know, it is likely that he or she will be going to vote - for his/her on sake today and tomorrow. \n",
    "\n",
    "Rank #4 factor is where the social altruism kicks in. Here social altruism refers to any action that benefits other people, no matter what the motive or how the giver benefits from the action. Although I would think there is a bit of self  interest as well because basic income will be given to all - therefore you and I (everyone) will benefited.\n",
    "\n",
    "Rank #5 factor is similar to factor #4 in that it supports basic income and demonstrated that there is an element of social caring for all walks of the society. \n",
    "\n",
    "Rank #6 and #7 factors are not in support of basic income, as the respondents are of opinion that it will be financially difficulty, and that only those citizens who are in of basic should be given - not universal, but need basis.\n",
    "\n",
    "#8 factor relates to awareness of basic income. Even a little awareness helps the cause of basic income. \n",
    "\n",
    "#9 factor suprisingly relates to a country - Poland - a country who has a medium minimum wage.\n",
    "\n",
    "Lastly, #10 factor are those who has high education level, according to the modelling they will likely to vote (either for or against) basic income i.e. not sitting on the fence. \n",
    "\n",
    "**TABLE C**\n",
    "\n",
    "Recently, Dalia Research published a summarized and updated version of the 2016 survey. When we compared this updated 2017 survey against 2016 survey results (10 ranking factors - some for basic income and some do not) have shown percentage increases with one factor increase as high as 12% (reduces anxiety for financing basic needs. It seems like the future is bright for basic income in the future of work.\n",
    "\n",
    "\n"
   ]
  },
  {
   "cell_type": "markdown",
   "metadata": {},
   "source": [
    "# PART 6 CONTEXTUALIZE DATA\n",
    "\n",
    "\n",
    "The long road that we have taken so far brings us back to the title of this notebook project - ***Happy Income? Predicting the Future of Basic Income in Europe*** - The answer to predicting part is a definite Yes. The happiness that basic income can bring to all European will require a bit more detour discussion to answer the third question of this project notebook: **What is the future of basic income in the future of work?**\n",
    "\n",
    "There has been been numerous debates over the last five years all across the world due to the distruption of future of work. There are optimists who predict the future by looking backward in the renaissance to industrial revolution to information age. They predicted that the future of work will propel us forward just like the periods before us. There the less optimists who predict this time around, it is not the same the last transformtion periods because of the confluence of workplace automation (e.g. robo finance advisor), growing gig economy (e.g. Uber, Task Rabbit), widening income inequality (the rich gets richer), and declining economic mobility. The prediction is becoming muddier for the society at large.\n",
    "\n",
    "This is where the debate of basic income emerges (or re-emerged). Put simply, in a few words, basic income provides a universal income for all to be able to survive in this the future of work - while we are still trying to figure what it means. This is the insurance for an orderly transition. \n",
    "\n",
    "The follwing few key topics are derived from my long road taken so far - while analysing, exploring and predicting the Dalia dataset - I keep thinking like a journalist (what does it mean? where can explore more? what's the next lead?), and sociologist (what's the grounding here? what's societal consequences? Why this behaviour surfaces?). Let's begin.\n",
    "\n",
    "\n",
    "**I Know, Therefore I Care**\n",
    "\n",
    "American Sociologist C. Wright Mills described sociological imagination as \"the awareness of the relationship between personal experience and the wider society\". In the context of basic income awareness, I would interpret as this: The more we are aware of the benefits (and costs) of basic income, the more we are able to start to think about others. The ‘what-if’ questions start to appear. What if I am in a position in the future I need support of basic income (about self). What if someone I know who can benefit from basic income, while he/she is down and out (a close friend). What if we all can reduce financial strain for all (the greater society).\n",
    "\n",
    "The awareness of basic income is the key in predicting whether someone will vote for basic income. This is an important factor to consider for pro basic income policy makers to focus on build awareness in several ways:\n",
    "\n",
    "1. Educate key influencers – they will be able to spread basic income information the quickest, and not to mention most influential (they are after all most trusted).\n",
    "2. Make basic income information accessible – adding information is like adding votes. The more information is being loaded into someone minds, the higher their awareness and the likelihood of supporting basic income.\n",
    "3. Segment information dissemination – the significance test has shown that all factors such as geography, gender, job status, and others (except education level) have significance differences of basic income awareness. I suspect they have differences because the way they receive, consume and interpret information are different because of their psychographic differences. The pro basic income policy makers should tailor-made information in accordance to the preference of each psychographic preferences. For example, for younger age group, social media and interactive dialogue will be the way. Where else, for older age group, focus messages on reduce anxiety about income support, and perhaps on basic in supporting their children or grandchildren.\n",
    "\n",
    "\n",
    "**A Shared Humanity**\n",
    "\n",
    "\n",
    "I believe the basic income brings the good in us, not just good for us. Why am I saying this? Based on the predictive modelling, the factors that rank #2 (reduce anxiety), and #2 (more equality). The Dalia respondents have given us a glimpse of the collective consciousness of European as a society, and how they want to treat each other – well and equally. Most of us do not know what the future will hold for us in the future of work (or no work or limited work security at all). A basic, universal income can help to reduce society anxiety, as each of us wrestle with the ever uncertain, volatile and complicated future. A basic, universal income treats every the same regardless of wealth, job status, etc. It is effectively a blind and blanket society benefits for all. Based on the results from the predicting modelling, the shared humanity is a very strong currency for policy makers to further the basic agenda. Here are some ways to do so:\n",
    "\n",
    "1. Focus on collectiveness contribution as the key message. The policy maker should drive basic income as something that we are contributing equally, and as an outcome shared equally. \n",
    "2. Build in greater transparency in basic income distribution with focus on making sure the most needy given more care, not in financial assistance (that will go against basic income equality), but in advisory on opitimizing and proper use of basic income.  \n",
    "\n",
    "\n",
    "\n",
    "**Self Interest**\n",
    "\n",
    "\n",
    "This will be counterintuitive. We are human, and there is always some sense of self-interest among us. Basic income is equally shared, and that for you and me. There is a powerful sentiment that policy makers can tap into. The self-interest nature of human can help to swing non-supporter towards supporting basic income.\n",
    "\n",
    "\n",
    "\n",
    "**Experimentation Fuels Greater Basic Income Interest, Awareness, and Policy Refinement**\n",
    "\n",
    "The recent stoppage of Finland experimentation with basic income has fueled more debate about basic income. Although the news is dissappointing, it helps to spur rethinking about what else can we do.\n"
   ]
  }
 ],
 "metadata": {
  "kernelspec": {
   "display_name": "learn-env",
   "language": "python",
   "name": "learn-env"
  },
  "language_info": {
   "codemirror_mode": {
    "name": "ipython",
    "version": 3
   },
   "file_extension": ".py",
   "mimetype": "text/x-python",
   "name": "python",
   "nbconvert_exporter": "python",
   "pygments_lexer": "ipython3",
   "version": "3.7.2"
  }
 },
 "nbformat": 4,
 "nbformat_minor": 2
}
